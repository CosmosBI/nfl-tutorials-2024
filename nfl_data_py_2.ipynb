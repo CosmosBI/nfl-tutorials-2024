{
  "nbformat": 4,
  "nbformat_minor": 0,
  "metadata": {
    "colab": {
      "provenance": [],
      "authorship_tag": "ABX9TyMAXGw+lHe2SsuUvk/LY8FQ",
      "include_colab_link": true
    },
    "kernelspec": {
      "name": "python3",
      "display_name": "Python 3"
    },
    "language_info": {
      "name": "python"
    }
  },
  "cells": [
    {
      "cell_type": "markdown",
      "metadata": {
        "id": "view-in-github",
        "colab_type": "text"
      },
      "source": [
        "<a href=\"https://colab.research.google.com/github/tejseth/nfl-tutorials-2022/blob/master/nfl_data_py_2.ipynb\" target=\"_parent\"><img src=\"https://colab.research.google.com/assets/colab-badge.svg\" alt=\"Open In Colab\"/></a>"
      ]
    },
    {
      "cell_type": "markdown",
      "source": [
        "## Modeling with NFL Data in Python\n"
      ],
      "metadata": {
        "id": "u9t84zITg5kk"
      }
    },
    {
      "cell_type": "markdown",
      "source": [
        "#### Installing Packages "
      ],
      "metadata": {
        "id": "BEYSa7EZg_Jm"
      }
    },
    {
      "cell_type": "code",
      "execution_count": 8,
      "metadata": {
        "id": "R4hsxEl8VLT_",
        "colab": {
          "base_uri": "https://localhost:8080/"
        },
        "outputId": "7dec1a1d-de4b-4855-a59a-a663a7ebff07"
      },
      "outputs": [
        {
          "output_type": "stream",
          "name": "stdout",
          "text": [
            "Looking in indexes: https://pypi.org/simple, https://us-python.pkg.dev/colab-wheels/public/simple/\n",
            "Collecting nfl_data_py\n",
            "  Downloading nfl_data_py-0.3.0.tar.gz (1.4 MB)\n",
            "\u001b[2K     \u001b[90m━━━━━━━━━━━━━━━━━━━━━━━━━━━━━━━━━━━━━━━━\u001b[0m \u001b[32m1.4/1.4 MB\u001b[0m \u001b[31m17.0 MB/s\u001b[0m eta \u001b[36m0:00:00\u001b[0m\n",
            "\u001b[?25h  Preparing metadata (setup.py) ... \u001b[?25l\u001b[?25hdone\n",
            "Requirement already satisfied: pandas>1 in /usr/local/lib/python3.8/dist-packages (from nfl_data_py) (1.3.5)\n",
            "Requirement already satisfied: appdirs>1 in /usr/local/lib/python3.8/dist-packages (from nfl_data_py) (1.4.4)\n",
            "Collecting fastparquet>0.5\n",
            "  Downloading fastparquet-2023.2.0-cp38-cp38-manylinux_2_17_x86_64.manylinux2014_x86_64.whl (1.6 MB)\n",
            "\u001b[2K     \u001b[90m━━━━━━━━━━━━━━━━━━━━━━━━━━━━━━━━━━━━━━━━\u001b[0m \u001b[32m1.6/1.6 MB\u001b[0m \u001b[31m12.3 MB/s\u001b[0m eta \u001b[36m0:00:00\u001b[0m\n",
            "\u001b[?25hCollecting python-snappy>0.5\n",
            "  Downloading python_snappy-0.6.1-cp38-cp38-manylinux_2_12_x86_64.manylinux2010_x86_64.whl (56 kB)\n",
            "\u001b[2K     \u001b[90m━━━━━━━━━━━━━━━━━━━━━━━━━━━━━━━━━━━━━━━━\u001b[0m \u001b[32m56.1/56.1 KB\u001b[0m \u001b[31m2.2 MB/s\u001b[0m eta \u001b[36m0:00:00\u001b[0m\n",
            "\u001b[?25hRequirement already satisfied: numpy>=1.20.3 in /usr/local/lib/python3.8/dist-packages (from fastparquet>0.5->nfl_data_py) (1.21.6)\n",
            "Collecting cramjam>=2.3\n",
            "  Downloading cramjam-2.6.2-cp38-cp38-manylinux_2_17_x86_64.manylinux2014_x86_64.whl (2.0 MB)\n",
            "\u001b[2K     \u001b[90m━━━━━━━━━━━━━━━━━━━━━━━━━━━━━━━━━━━━━━━━\u001b[0m \u001b[32m2.0/2.0 MB\u001b[0m \u001b[31m44.1 MB/s\u001b[0m eta \u001b[36m0:00:00\u001b[0m\n",
            "\u001b[?25hCollecting pandas>1\n",
            "  Downloading pandas-1.5.3-cp38-cp38-manylinux_2_17_x86_64.manylinux2014_x86_64.whl (12.2 MB)\n",
            "\u001b[2K     \u001b[90m━━━━━━━━━━━━━━━━━━━━━━━━━━━━━━━━━━━━━━━━\u001b[0m \u001b[32m12.2/12.2 MB\u001b[0m \u001b[31m14.3 MB/s\u001b[0m eta \u001b[36m0:00:00\u001b[0m\n",
            "\u001b[?25hRequirement already satisfied: packaging in /usr/local/lib/python3.8/dist-packages (from fastparquet>0.5->nfl_data_py) (23.0)\n",
            "Requirement already satisfied: fsspec in /usr/local/lib/python3.8/dist-packages (from fastparquet>0.5->nfl_data_py) (2023.1.0)\n",
            "Requirement already satisfied: pytz>=2020.1 in /usr/local/lib/python3.8/dist-packages (from pandas>1->nfl_data_py) (2022.7.1)\n",
            "Requirement already satisfied: python-dateutil>=2.8.1 in /usr/local/lib/python3.8/dist-packages (from pandas>1->nfl_data_py) (2.8.2)\n",
            "Requirement already satisfied: six>=1.5 in /usr/local/lib/python3.8/dist-packages (from python-dateutil>=2.8.1->pandas>1->nfl_data_py) (1.15.0)\n",
            "Building wheels for collected packages: nfl_data_py\n",
            "  Building wheel for nfl_data_py (setup.py) ... \u001b[?25l\u001b[?25hdone\n",
            "  Created wheel for nfl_data_py: filename=nfl_data_py-0.3.0-py3-none-any.whl size=25103 sha256=fa0855ee0b82bcd42d486e04162c61928fb0ef49a65e6b50562c36046f7b4222\n",
            "  Stored in directory: /root/.cache/pip/wheels/64/79/16/6cd7832e73f266c580e838243cf483b8a163e337decd250244\n",
            "Successfully built nfl_data_py\n",
            "Installing collected packages: python-snappy, cramjam, pandas, fastparquet, nfl_data_py\n",
            "  Attempting uninstall: pandas\n",
            "    Found existing installation: pandas 1.3.5\n",
            "    Uninstalling pandas-1.3.5:\n",
            "      Successfully uninstalled pandas-1.3.5\n",
            "Successfully installed cramjam-2.6.2 fastparquet-2023.2.0 nfl_data_py-0.3.0 pandas-1.5.3 python-snappy-0.6.1\n"
          ]
        }
      ],
      "source": [
        "!pip install nfl_data_py\n",
        "# !pip install pandas\n",
        "# !pip install matplotlib\n",
        "# !pip install seaborn\n",
        "# !pip install numpy\n",
        "# !pip install sklearn\n",
        "# !pip install xgboost"
      ]
    },
    {
      "cell_type": "markdown",
      "source": [
        "#### Loading in Packages"
      ],
      "metadata": {
        "id": "AlI10TzbhB_Y"
      }
    },
    {
      "cell_type": "code",
      "source": [
        "import nfl_data_py as nfl\n",
        "import pandas as pd\n",
        "import matplotlib.pyplot as plt\n",
        "import numpy as np\n",
        "import seaborn as sns\n",
        "from sklearn.model_selection import StratifiedShuffleSplit\n",
        "from sklearn.linear_model import LogisticRegression\n",
        "from sklearn.ensemble import RandomForestClassifier\n",
        "from sklearn.metrics import brier_score_loss\n",
        "from xgboost import XGBClassifier"
      ],
      "metadata": {
        "id": "HspSTbm9fxBw"
      },
      "execution_count": 10,
      "outputs": []
    },
    {
      "cell_type": "markdown",
      "source": [
        "#### Loading in Play-by-Play Data"
      ],
      "metadata": {
        "id": "p5wgClkghEMi"
      }
    },
    {
      "cell_type": "code",
      "source": [
        "pbp = nfl.import_pbp_data([2020, 2021, 2022])"
      ],
      "metadata": {
        "colab": {
          "base_uri": "https://localhost:8080/"
        },
        "id": "9lDNQ1J8f3jt",
        "outputId": "77476a76-2f36-4c1f-adab-3305fb69744a"
      },
      "execution_count": 11,
      "outputs": [
        {
          "output_type": "stream",
          "name": "stdout",
          "text": [
            "2020 done.\n",
            "2021 done.\n",
            "2022 done.\n",
            "Downcasting floats.\n"
          ]
        }
      ]
    },
    {
      "cell_type": "code",
      "source": [
        "pbp.head()"
      ],
      "metadata": {
        "colab": {
          "base_uri": "https://localhost:8080/",
          "height": 508
        },
        "id": "2W68tE99YXEe",
        "outputId": "f97a43d2-6c63-4440-f845-4946d26d60c0"
      },
      "execution_count": 12,
      "outputs": [
        {
          "output_type": "execute_result",
          "data": {
            "text/plain": [
              "   play_id         game_id old_game_id home_team away_team season_type  week  \\\n",
              "0      1.0  2020_01_ARI_SF  2020091311        SF       ARI         REG     1   \n",
              "1     39.0  2020_01_ARI_SF  2020091311        SF       ARI         REG     1   \n",
              "2     54.0  2020_01_ARI_SF  2020091311        SF       ARI         REG     1   \n",
              "3     93.0  2020_01_ARI_SF  2020091311        SF       ARI         REG     1   \n",
              "4    118.0  2020_01_ARI_SF  2020091311        SF       ARI         REG     1   \n",
              "\n",
              "  posteam posteam_type defteam  ... offense_formation  offense_personnel  \\\n",
              "0    None         None    None  ...              None               None   \n",
              "1      SF         home     ARI  ...              None               None   \n",
              "2      SF         home     ARI  ...           SHOTGUN   2 RB, 1 TE, 2 WR   \n",
              "3      SF         home     ARI  ...           SHOTGUN   2 RB, 1 TE, 2 WR   \n",
              "4      SF         home     ARI  ...        SINGLEBACK   2 RB, 1 TE, 2 WR   \n",
              "\n",
              "  defenders_in_box  defense_personnel  number_of_pass_rushers  \\\n",
              "0              NaN               None                     NaN   \n",
              "1              NaN               None                     NaN   \n",
              "2              7.0   2 DL, 5 LB, 4 DB                     4.0   \n",
              "3              7.0   2 DL, 5 LB, 4 DB                     NaN   \n",
              "4              7.0   2 DL, 5 LB, 4 DB                     NaN   \n",
              "\n",
              "                                     players_on_play  \\\n",
              "0                                                      \n",
              "1  45142;46331;46674;45037;46253;44878;42579;4637...   \n",
              "2  40078;46078;45069;46113;38551;45185;42718;4781...   \n",
              "3  40078;46078;45069;46113;38551;45185;42718;4781...   \n",
              "4  40078;46078;46113;45069;38551;45185;42718;4781...   \n",
              "\n",
              "                                     offense_players  \\\n",
              "0                                                      \n",
              "1  00-0033258;00-0034490;00-0033862;00-0029747;00...   \n",
              "2  00-0029892;00-0034847;00-0033221;00-0034860;00...   \n",
              "3  00-0029892;00-0034847;00-0033221;00-0034860;00...   \n",
              "4  00-0029892;00-0034847;00-0034860;00-0033221;00...   \n",
              "\n",
              "                                     defense_players  n_offense  n_defense  \n",
              "0                                                           0.0        0.0  \n",
              "1  00-0034073;00-0034730;00-0033783;00-0031961;00...       11.0       11.0  \n",
              "2  00-0029585;00-0035236;00-0031557;00-0035705;00...       11.0       11.0  \n",
              "3  00-0029585;00-0035236;00-0031557;00-0035705;00...       11.0       11.0  \n",
              "4  00-0029585;00-0035236;00-0031557;00-0029747;00...       11.0       11.0  \n",
              "\n",
              "[5 rows x 384 columns]"
            ],
            "text/html": [
              "\n",
              "  <div id=\"df-7ee814f8-2321-4d58-b001-6f84c242ee3f\">\n",
              "    <div class=\"colab-df-container\">\n",
              "      <div>\n",
              "<style scoped>\n",
              "    .dataframe tbody tr th:only-of-type {\n",
              "        vertical-align: middle;\n",
              "    }\n",
              "\n",
              "    .dataframe tbody tr th {\n",
              "        vertical-align: top;\n",
              "    }\n",
              "\n",
              "    .dataframe thead th {\n",
              "        text-align: right;\n",
              "    }\n",
              "</style>\n",
              "<table border=\"1\" class=\"dataframe\">\n",
              "  <thead>\n",
              "    <tr style=\"text-align: right;\">\n",
              "      <th></th>\n",
              "      <th>play_id</th>\n",
              "      <th>game_id</th>\n",
              "      <th>old_game_id</th>\n",
              "      <th>home_team</th>\n",
              "      <th>away_team</th>\n",
              "      <th>season_type</th>\n",
              "      <th>week</th>\n",
              "      <th>posteam</th>\n",
              "      <th>posteam_type</th>\n",
              "      <th>defteam</th>\n",
              "      <th>...</th>\n",
              "      <th>offense_formation</th>\n",
              "      <th>offense_personnel</th>\n",
              "      <th>defenders_in_box</th>\n",
              "      <th>defense_personnel</th>\n",
              "      <th>number_of_pass_rushers</th>\n",
              "      <th>players_on_play</th>\n",
              "      <th>offense_players</th>\n",
              "      <th>defense_players</th>\n",
              "      <th>n_offense</th>\n",
              "      <th>n_defense</th>\n",
              "    </tr>\n",
              "  </thead>\n",
              "  <tbody>\n",
              "    <tr>\n",
              "      <th>0</th>\n",
              "      <td>1.0</td>\n",
              "      <td>2020_01_ARI_SF</td>\n",
              "      <td>2020091311</td>\n",
              "      <td>SF</td>\n",
              "      <td>ARI</td>\n",
              "      <td>REG</td>\n",
              "      <td>1</td>\n",
              "      <td>None</td>\n",
              "      <td>None</td>\n",
              "      <td>None</td>\n",
              "      <td>...</td>\n",
              "      <td>None</td>\n",
              "      <td>None</td>\n",
              "      <td>NaN</td>\n",
              "      <td>None</td>\n",
              "      <td>NaN</td>\n",
              "      <td></td>\n",
              "      <td></td>\n",
              "      <td></td>\n",
              "      <td>0.0</td>\n",
              "      <td>0.0</td>\n",
              "    </tr>\n",
              "    <tr>\n",
              "      <th>1</th>\n",
              "      <td>39.0</td>\n",
              "      <td>2020_01_ARI_SF</td>\n",
              "      <td>2020091311</td>\n",
              "      <td>SF</td>\n",
              "      <td>ARI</td>\n",
              "      <td>REG</td>\n",
              "      <td>1</td>\n",
              "      <td>SF</td>\n",
              "      <td>home</td>\n",
              "      <td>ARI</td>\n",
              "      <td>...</td>\n",
              "      <td>None</td>\n",
              "      <td>None</td>\n",
              "      <td>NaN</td>\n",
              "      <td>None</td>\n",
              "      <td>NaN</td>\n",
              "      <td>45142;46331;46674;45037;46253;44878;42579;4637...</td>\n",
              "      <td>00-0033258;00-0034490;00-0033862;00-0029747;00...</td>\n",
              "      <td>00-0034073;00-0034730;00-0033783;00-0031961;00...</td>\n",
              "      <td>11.0</td>\n",
              "      <td>11.0</td>\n",
              "    </tr>\n",
              "    <tr>\n",
              "      <th>2</th>\n",
              "      <td>54.0</td>\n",
              "      <td>2020_01_ARI_SF</td>\n",
              "      <td>2020091311</td>\n",
              "      <td>SF</td>\n",
              "      <td>ARI</td>\n",
              "      <td>REG</td>\n",
              "      <td>1</td>\n",
              "      <td>SF</td>\n",
              "      <td>home</td>\n",
              "      <td>ARI</td>\n",
              "      <td>...</td>\n",
              "      <td>SHOTGUN</td>\n",
              "      <td>2 RB, 1 TE, 2 WR</td>\n",
              "      <td>7.0</td>\n",
              "      <td>2 DL, 5 LB, 4 DB</td>\n",
              "      <td>4.0</td>\n",
              "      <td>40078;46078;45069;46113;38551;45185;42718;4781...</td>\n",
              "      <td>00-0029892;00-0034847;00-0033221;00-0034860;00...</td>\n",
              "      <td>00-0029585;00-0035236;00-0031557;00-0035705;00...</td>\n",
              "      <td>11.0</td>\n",
              "      <td>11.0</td>\n",
              "    </tr>\n",
              "    <tr>\n",
              "      <th>3</th>\n",
              "      <td>93.0</td>\n",
              "      <td>2020_01_ARI_SF</td>\n",
              "      <td>2020091311</td>\n",
              "      <td>SF</td>\n",
              "      <td>ARI</td>\n",
              "      <td>REG</td>\n",
              "      <td>1</td>\n",
              "      <td>SF</td>\n",
              "      <td>home</td>\n",
              "      <td>ARI</td>\n",
              "      <td>...</td>\n",
              "      <td>SHOTGUN</td>\n",
              "      <td>2 RB, 1 TE, 2 WR</td>\n",
              "      <td>7.0</td>\n",
              "      <td>2 DL, 5 LB, 4 DB</td>\n",
              "      <td>NaN</td>\n",
              "      <td>40078;46078;45069;46113;38551;45185;42718;4781...</td>\n",
              "      <td>00-0029892;00-0034847;00-0033221;00-0034860;00...</td>\n",
              "      <td>00-0029585;00-0035236;00-0031557;00-0035705;00...</td>\n",
              "      <td>11.0</td>\n",
              "      <td>11.0</td>\n",
              "    </tr>\n",
              "    <tr>\n",
              "      <th>4</th>\n",
              "      <td>118.0</td>\n",
              "      <td>2020_01_ARI_SF</td>\n",
              "      <td>2020091311</td>\n",
              "      <td>SF</td>\n",
              "      <td>ARI</td>\n",
              "      <td>REG</td>\n",
              "      <td>1</td>\n",
              "      <td>SF</td>\n",
              "      <td>home</td>\n",
              "      <td>ARI</td>\n",
              "      <td>...</td>\n",
              "      <td>SINGLEBACK</td>\n",
              "      <td>2 RB, 1 TE, 2 WR</td>\n",
              "      <td>7.0</td>\n",
              "      <td>2 DL, 5 LB, 4 DB</td>\n",
              "      <td>NaN</td>\n",
              "      <td>40078;46078;46113;45069;38551;45185;42718;4781...</td>\n",
              "      <td>00-0029892;00-0034847;00-0034860;00-0033221;00...</td>\n",
              "      <td>00-0029585;00-0035236;00-0031557;00-0029747;00...</td>\n",
              "      <td>11.0</td>\n",
              "      <td>11.0</td>\n",
              "    </tr>\n",
              "  </tbody>\n",
              "</table>\n",
              "<p>5 rows × 384 columns</p>\n",
              "</div>\n",
              "      <button class=\"colab-df-convert\" onclick=\"convertToInteractive('df-7ee814f8-2321-4d58-b001-6f84c242ee3f')\"\n",
              "              title=\"Convert this dataframe to an interactive table.\"\n",
              "              style=\"display:none;\">\n",
              "        \n",
              "  <svg xmlns=\"http://www.w3.org/2000/svg\" height=\"24px\"viewBox=\"0 0 24 24\"\n",
              "       width=\"24px\">\n",
              "    <path d=\"M0 0h24v24H0V0z\" fill=\"none\"/>\n",
              "    <path d=\"M18.56 5.44l.94 2.06.94-2.06 2.06-.94-2.06-.94-.94-2.06-.94 2.06-2.06.94zm-11 1L8.5 8.5l.94-2.06 2.06-.94-2.06-.94L8.5 2.5l-.94 2.06-2.06.94zm10 10l.94 2.06.94-2.06 2.06-.94-2.06-.94-.94-2.06-.94 2.06-2.06.94z\"/><path d=\"M17.41 7.96l-1.37-1.37c-.4-.4-.92-.59-1.43-.59-.52 0-1.04.2-1.43.59L10.3 9.45l-7.72 7.72c-.78.78-.78 2.05 0 2.83L4 21.41c.39.39.9.59 1.41.59.51 0 1.02-.2 1.41-.59l7.78-7.78 2.81-2.81c.8-.78.8-2.07 0-2.86zM5.41 20L4 18.59l7.72-7.72 1.47 1.35L5.41 20z\"/>\n",
              "  </svg>\n",
              "      </button>\n",
              "      \n",
              "  <style>\n",
              "    .colab-df-container {\n",
              "      display:flex;\n",
              "      flex-wrap:wrap;\n",
              "      gap: 12px;\n",
              "    }\n",
              "\n",
              "    .colab-df-convert {\n",
              "      background-color: #E8F0FE;\n",
              "      border: none;\n",
              "      border-radius: 50%;\n",
              "      cursor: pointer;\n",
              "      display: none;\n",
              "      fill: #1967D2;\n",
              "      height: 32px;\n",
              "      padding: 0 0 0 0;\n",
              "      width: 32px;\n",
              "    }\n",
              "\n",
              "    .colab-df-convert:hover {\n",
              "      background-color: #E2EBFA;\n",
              "      box-shadow: 0px 1px 2px rgba(60, 64, 67, 0.3), 0px 1px 3px 1px rgba(60, 64, 67, 0.15);\n",
              "      fill: #174EA6;\n",
              "    }\n",
              "\n",
              "    [theme=dark] .colab-df-convert {\n",
              "      background-color: #3B4455;\n",
              "      fill: #D2E3FC;\n",
              "    }\n",
              "\n",
              "    [theme=dark] .colab-df-convert:hover {\n",
              "      background-color: #434B5C;\n",
              "      box-shadow: 0px 1px 3px 1px rgba(0, 0, 0, 0.15);\n",
              "      filter: drop-shadow(0px 1px 2px rgba(0, 0, 0, 0.3));\n",
              "      fill: #FFFFFF;\n",
              "    }\n",
              "  </style>\n",
              "\n",
              "      <script>\n",
              "        const buttonEl =\n",
              "          document.querySelector('#df-7ee814f8-2321-4d58-b001-6f84c242ee3f button.colab-df-convert');\n",
              "        buttonEl.style.display =\n",
              "          google.colab.kernel.accessAllowed ? 'block' : 'none';\n",
              "\n",
              "        async function convertToInteractive(key) {\n",
              "          const element = document.querySelector('#df-7ee814f8-2321-4d58-b001-6f84c242ee3f');\n",
              "          const dataTable =\n",
              "            await google.colab.kernel.invokeFunction('convertToInteractive',\n",
              "                                                     [key], {});\n",
              "          if (!dataTable) return;\n",
              "\n",
              "          const docLinkHtml = 'Like what you see? Visit the ' +\n",
              "            '<a target=\"_blank\" href=https://colab.research.google.com/notebooks/data_table.ipynb>data table notebook</a>'\n",
              "            + ' to learn more about interactive tables.';\n",
              "          element.innerHTML = '';\n",
              "          dataTable['output_type'] = 'display_data';\n",
              "          await google.colab.output.renderOutput(dataTable, element);\n",
              "          const docLink = document.createElement('div');\n",
              "          docLink.innerHTML = docLinkHtml;\n",
              "          element.appendChild(docLink);\n",
              "        }\n",
              "      </script>\n",
              "    </div>\n",
              "  </div>\n",
              "  "
            ]
          },
          "metadata": {},
          "execution_count": 12
        }
      ]
    },
    {
      "cell_type": "markdown",
      "source": [
        "#### Getting Dataset Ready for Modeling"
      ],
      "metadata": {
        "id": "tV9Fo0cYhXks"
      }
    },
    {
      "cell_type": "code",
      "source": [
        "print(pbp.shape)\n",
        "pbp_clean = pbp[(pbp['pass'] == 1) & (pbp['play_type'] != \"no_play\")]\n",
        "print(pbp_clean.shape)"
      ],
      "metadata": {
        "colab": {
          "base_uri": "https://localhost:8080/"
        },
        "id": "JX6BzAR2RoGs",
        "outputId": "22b55b66-648d-4361-c5a1-4eda4485fad8"
      },
      "execution_count": 13,
      "outputs": [
        {
          "output_type": "stream",
          "name": "stdout",
          "text": [
            "(149195, 384)\n",
            "(64339, 384)\n"
          ]
        }
      ]
    },
    {
      "cell_type": "markdown",
      "source": [
        "#### Doing some EDA"
      ],
      "metadata": {
        "id": "-KEkzGKeTBpB"
      }
    },
    {
      "cell_type": "code",
      "source": [
        "sns.countplot(x=pbp_clean[\"sack\"])\n",
        "plt.show()"
      ],
      "metadata": {
        "colab": {
          "base_uri": "https://localhost:8080/",
          "height": 279
        },
        "id": "x0zYqvtqbPFg",
        "outputId": "b1f3b8f9-c348-4df2-8316-d7f94f3314cc"
      },
      "execution_count": 14,
      "outputs": [
        {
          "output_type": "display_data",
          "data": {
            "text/plain": [
              "<Figure size 432x288 with 1 Axes>"
            ],
            "image/png": "[encoded data removed]"
          },
          "metadata": {
            "needs_background": "light"
          }
        }
      ]
    },
    {
      "cell_type": "code",
      "source": [
        "sacks = pbp_clean[(pbp_clean['sack'] == 1)]\n",
        "sns.countplot(x=sacks[\"down\"])\n",
        "plt.show()"
      ],
      "metadata": {
        "colab": {
          "base_uri": "https://localhost:8080/",
          "height": 282
        },
        "id": "qmRd3EPJR7bI",
        "outputId": "460520a5-7fd9-4a0b-82b6-fd595ebb6527"
      },
      "execution_count": 15,
      "outputs": [
        {
          "output_type": "display_data",
          "data": {
            "text/plain": [
              "<Figure size 432x288 with 1 Axes>"
            ],
            "image/png": "[encoded data removed]"
          },
          "metadata": {
            "needs_background": "light"
          }
        }
      ]
    },
    {
      "cell_type": "code",
      "source": [
        "sacks = pbp_clean[(pbp_clean['sack'] == 1)]\n",
        "sns.countplot(x=sacks[\"number_of_pass_rushers\"])\n",
        "plt.show()"
      ],
      "metadata": {
        "colab": {
          "base_uri": "https://localhost:8080/",
          "height": 280
        },
        "id": "hmFabiG0YgVb",
        "outputId": "546bf5e4-b40b-406b-8a27-e819f206d947"
      },
      "execution_count": 16,
      "outputs": [
        {
          "output_type": "display_data",
          "data": {
            "text/plain": [
              "<Figure size 432x288 with 1 Axes>"
            ],
            "image/png": "[encoded data removed]"
          },
          "metadata": {
            "needs_background": "light"
          }
        }
      ]
    },
    {
      "cell_type": "code",
      "source": [
        "sacks = pbp_clean[(pbp_clean['sack'] == 1)]\n",
        "sns.countplot(x=sacks[\"defenders_in_box\"])\n",
        "plt.show()"
      ],
      "metadata": {
        "colab": {
          "base_uri": "https://localhost:8080/",
          "height": 280
        },
        "id": "LPN1d-Xqa2n3",
        "outputId": "42e5e578-66bf-4a88-bce8-68a66f28a1d3"
      },
      "execution_count": 17,
      "outputs": [
        {
          "output_type": "display_data",
          "data": {
            "text/plain": [
              "<Figure size 432x288 with 1 Axes>"
            ],
            "image/png": "[encoded data removed]"
          },
          "metadata": {
            "needs_background": "light"
          }
        }
      ]
    },
    {
      "cell_type": "markdown",
      "source": [
        "#### Feature Engineering"
      ],
      "metadata": {
        "id": "o4r5rRf7T3AG"
      }
    },
    {
      "cell_type": "code",
      "source": [
        "pbp_clean['obvious_pass'] = np.where((pbp_clean['down'] == 3) & (pbp_clean['ydstogo'] >= 6), 1,0)"
      ],
      "metadata": {
        "colab": {
          "base_uri": "https://localhost:8080/"
        },
        "id": "iwjl7_xZTKV0",
        "outputId": "def66690-f0b8-4176-dca4-c35cc5453e4e"
      },
      "execution_count": 18,
      "outputs": [
        {
          "output_type": "stream",
          "name": "stderr",
          "text": [
            "<ipython-input-18-aefebe19c44f>:1: SettingWithCopyWarning: \n",
            "A value is trying to be set on a copy of a slice from a DataFrame.\n",
            "Try using .loc[row_indexer,col_indexer] = value instead\n",
            "\n",
            "See the caveats in the documentation: https://pandas.pydata.org/pandas-docs/stable/user_guide/indexing.html#returning-a-view-versus-a-copy\n",
            "  pbp_clean['obvious_pass'] = np.where((pbp_clean['down'] == 3) & (pbp_clean['ydstogo'] >= 6), 1,0)\n"
          ]
        }
      ]
    },
    {
      "cell_type": "code",
      "source": [
        "pre_df = pbp_clean[['game_id', 'play_id', 'season', 'name', 'down', 'ydstogo', 'yardline_100', 'game_seconds_remaining',\n",
        "                    'defenders_in_box', 'number_of_pass_rushers', 'xpass', 'obvious_pass', 'sack']]\n",
        "df = pre_df.dropna()\n",
        "df.isna().sum()"
      ],
      "metadata": {
        "colab": {
          "base_uri": "https://localhost:8080/"
        },
        "id": "WdTp31h-TXnu",
        "outputId": "1c59c719-1eca-4bf7-911b-6741a746e4a0"
      },
      "execution_count": 21,
      "outputs": [
        {
          "output_type": "execute_result",
          "data": {
            "text/plain": [
              "game_id                   0\n",
              "play_id                   0\n",
              "season                    0\n",
              "name                      0\n",
              "down                      0\n",
              "ydstogo                   0\n",
              "yardline_100              0\n",
              "game_seconds_remaining    0\n",
              "defenders_in_box          0\n",
              "number_of_pass_rushers    0\n",
              "xpass                     0\n",
              "obvious_pass              0\n",
              "sack                      0\n",
              "dtype: int64"
            ]
          },
          "metadata": {},
          "execution_count": 21
        }
      ]
    },
    {
      "cell_type": "code",
      "source": [
        "df.head()"
      ],
      "metadata": {
        "colab": {
          "base_uri": "https://localhost:8080/",
          "height": 270
        },
        "id": "y3br8ar9Vy3e",
        "outputId": "657ef14f-c1a9-4b3a-f66d-a5f203206ee9"
      },
      "execution_count": 22,
      "outputs": [
        {
          "output_type": "execute_result",
          "data": {
            "text/plain": [
              "           game_id  play_id  season         name  down  ydstogo  yardline_100  \\\n",
              "2   2020_01_ARI_SF     54.0    2020  J.Garoppolo   1.0     10.0          75.0   \n",
              "6   2020_01_ARI_SF    165.0    2020  J.Garoppolo   3.0     14.0          45.0   \n",
              "9   2020_01_ARI_SF    245.0    2020     K.Murray   1.0     10.0          75.0   \n",
              "10  2020_01_ARI_SF    274.0    2020     K.Murray   2.0      7.0          72.0   \n",
              "11  2020_01_ARI_SF    298.0    2020     K.Murray   1.0     10.0          65.0   \n",
              "\n",
              "    game_seconds_remaining  defenders_in_box  number_of_pass_rushers  \\\n",
              "2                   3600.0               7.0                     4.0   \n",
              "6                   3459.0               5.0                     4.0   \n",
              "9                   3410.0               5.0                     4.0   \n",
              "10                  3384.0               7.0                     4.0   \n",
              "11                  3360.0               6.0                     4.0   \n",
              "\n",
              "       xpass  obvious_pass  sack  \n",
              "2   0.515058             0   0.0  \n",
              "6   0.971992             1   0.0  \n",
              "9   0.442755             0   0.0  \n",
              "10  0.597824             0   0.0  \n",
              "11  0.453060             0   0.0  "
            ],
            "text/html": [
              "\n",
              "  <div id=\"df-f2632951-c85d-4316-944e-1e01e4ec06cf\">\n",
              "    <div class=\"colab-df-container\">\n",
              "      <div>\n",
              "<style scoped>\n",
              "    .dataframe tbody tr th:only-of-type {\n",
              "        vertical-align: middle;\n",
              "    }\n",
              "\n",
              "    .dataframe tbody tr th {\n",
              "        vertical-align: top;\n",
              "    }\n",
              "\n",
              "    .dataframe thead th {\n",
              "        text-align: right;\n",
              "    }\n",
              "</style>\n",
              "<table border=\"1\" class=\"dataframe\">\n",
              "  <thead>\n",
              "    <tr style=\"text-align: right;\">\n",
              "      <th></th>\n",
              "      <th>game_id</th>\n",
              "      <th>play_id</th>\n",
              "      <th>season</th>\n",
              "      <th>name</th>\n",
              "      <th>down</th>\n",
              "      <th>ydstogo</th>\n",
              "      <th>yardline_100</th>\n",
              "      <th>game_seconds_remaining</th>\n",
              "      <th>defenders_in_box</th>\n",
              "      <th>number_of_pass_rushers</th>\n",
              "      <th>xpass</th>\n",
              "      <th>obvious_pass</th>\n",
              "      <th>sack</th>\n",
              "    </tr>\n",
              "  </thead>\n",
              "  <tbody>\n",
              "    <tr>\n",
              "      <th>2</th>\n",
              "      <td>2020_01_ARI_SF</td>\n",
              "      <td>54.0</td>\n",
              "      <td>2020</td>\n",
              "      <td>J.Garoppolo</td>\n",
              "      <td>1.0</td>\n",
              "      <td>10.0</td>\n",
              "      <td>75.0</td>\n",
              "      <td>3600.0</td>\n",
              "      <td>7.0</td>\n",
              "      <td>4.0</td>\n",
              "      <td>0.515058</td>\n",
              "      <td>0</td>\n",
              "      <td>0.0</td>\n",
              "    </tr>\n",
              "    <tr>\n",
              "      <th>6</th>\n",
              "      <td>2020_01_ARI_SF</td>\n",
              "      <td>165.0</td>\n",
              "      <td>2020</td>\n",
              "      <td>J.Garoppolo</td>\n",
              "      <td>3.0</td>\n",
              "      <td>14.0</td>\n",
              "      <td>45.0</td>\n",
              "      <td>3459.0</td>\n",
              "      <td>5.0</td>\n",
              "      <td>4.0</td>\n",
              "      <td>0.971992</td>\n",
              "      <td>1</td>\n",
              "      <td>0.0</td>\n",
              "    </tr>\n",
              "    <tr>\n",
              "      <th>9</th>\n",
              "      <td>2020_01_ARI_SF</td>\n",
              "      <td>245.0</td>\n",
              "      <td>2020</td>\n",
              "      <td>K.Murray</td>\n",
              "      <td>1.0</td>\n",
              "      <td>10.0</td>\n",
              "      <td>75.0</td>\n",
              "      <td>3410.0</td>\n",
              "      <td>5.0</td>\n",
              "      <td>4.0</td>\n",
              "      <td>0.442755</td>\n",
              "      <td>0</td>\n",
              "      <td>0.0</td>\n",
              "    </tr>\n",
              "    <tr>\n",
              "      <th>10</th>\n",
              "      <td>2020_01_ARI_SF</td>\n",
              "      <td>274.0</td>\n",
              "      <td>2020</td>\n",
              "      <td>K.Murray</td>\n",
              "      <td>2.0</td>\n",
              "      <td>7.0</td>\n",
              "      <td>72.0</td>\n",
              "      <td>3384.0</td>\n",
              "      <td>7.0</td>\n",
              "      <td>4.0</td>\n",
              "      <td>0.597824</td>\n",
              "      <td>0</td>\n",
              "      <td>0.0</td>\n",
              "    </tr>\n",
              "    <tr>\n",
              "      <th>11</th>\n",
              "      <td>2020_01_ARI_SF</td>\n",
              "      <td>298.0</td>\n",
              "      <td>2020</td>\n",
              "      <td>K.Murray</td>\n",
              "      <td>1.0</td>\n",
              "      <td>10.0</td>\n",
              "      <td>65.0</td>\n",
              "      <td>3360.0</td>\n",
              "      <td>6.0</td>\n",
              "      <td>4.0</td>\n",
              "      <td>0.453060</td>\n",
              "      <td>0</td>\n",
              "      <td>0.0</td>\n",
              "    </tr>\n",
              "  </tbody>\n",
              "</table>\n",
              "</div>\n",
              "      <button class=\"colab-df-convert\" onclick=\"convertToInteractive('df-f2632951-c85d-4316-944e-1e01e4ec06cf')\"\n",
              "              title=\"Convert this dataframe to an interactive table.\"\n",
              "              style=\"display:none;\">\n",
              "        \n",
              "  <svg xmlns=\"http://www.w3.org/2000/svg\" height=\"24px\"viewBox=\"0 0 24 24\"\n",
              "       width=\"24px\">\n",
              "    <path d=\"M0 0h24v24H0V0z\" fill=\"none\"/>\n",
              "    <path d=\"M18.56 5.44l.94 2.06.94-2.06 2.06-.94-2.06-.94-.94-2.06-.94 2.06-2.06.94zm-11 1L8.5 8.5l.94-2.06 2.06-.94-2.06-.94L8.5 2.5l-.94 2.06-2.06.94zm10 10l.94 2.06.94-2.06 2.06-.94-2.06-.94-.94-2.06-.94 2.06-2.06.94z\"/><path d=\"M17.41 7.96l-1.37-1.37c-.4-.4-.92-.59-1.43-.59-.52 0-1.04.2-1.43.59L10.3 9.45l-7.72 7.72c-.78.78-.78 2.05 0 2.83L4 21.41c.39.39.9.59 1.41.59.51 0 1.02-.2 1.41-.59l7.78-7.78 2.81-2.81c.8-.78.8-2.07 0-2.86zM5.41 20L4 18.59l7.72-7.72 1.47 1.35L5.41 20z\"/>\n",
              "  </svg>\n",
              "      </button>\n",
              "      \n",
              "  <style>\n",
              "    .colab-df-container {\n",
              "      display:flex;\n",
              "      flex-wrap:wrap;\n",
              "      gap: 12px;\n",
              "    }\n",
              "\n",
              "    .colab-df-convert {\n",
              "      background-color: #E8F0FE;\n",
              "      border: none;\n",
              "      border-radius: 50%;\n",
              "      cursor: pointer;\n",
              "      display: none;\n",
              "      fill: #1967D2;\n",
              "      height: 32px;\n",
              "      padding: 0 0 0 0;\n",
              "      width: 32px;\n",
              "    }\n",
              "\n",
              "    .colab-df-convert:hover {\n",
              "      background-color: #E2EBFA;\n",
              "      box-shadow: 0px 1px 2px rgba(60, 64, 67, 0.3), 0px 1px 3px 1px rgba(60, 64, 67, 0.15);\n",
              "      fill: #174EA6;\n",
              "    }\n",
              "\n",
              "    [theme=dark] .colab-df-convert {\n",
              "      background-color: #3B4455;\n",
              "      fill: #D2E3FC;\n",
              "    }\n",
              "\n",
              "    [theme=dark] .colab-df-convert:hover {\n",
              "      background-color: #434B5C;\n",
              "      box-shadow: 0px 1px 3px 1px rgba(0, 0, 0, 0.15);\n",
              "      filter: drop-shadow(0px 1px 2px rgba(0, 0, 0, 0.3));\n",
              "      fill: #FFFFFF;\n",
              "    }\n",
              "  </style>\n",
              "\n",
              "      <script>\n",
              "        const buttonEl =\n",
              "          document.querySelector('#df-f2632951-c85d-4316-944e-1e01e4ec06cf button.colab-df-convert');\n",
              "        buttonEl.style.display =\n",
              "          google.colab.kernel.accessAllowed ? 'block' : 'none';\n",
              "\n",
              "        async function convertToInteractive(key) {\n",
              "          const element = document.querySelector('#df-f2632951-c85d-4316-944e-1e01e4ec06cf');\n",
              "          const dataTable =\n",
              "            await google.colab.kernel.invokeFunction('convertToInteractive',\n",
              "                                                     [key], {});\n",
              "          if (!dataTable) return;\n",
              "\n",
              "          const docLinkHtml = 'Like what you see? Visit the ' +\n",
              "            '<a target=\"_blank\" href=https://colab.research.google.com/notebooks/data_table.ipynb>data table notebook</a>'\n",
              "            + ' to learn more about interactive tables.';\n",
              "          element.innerHTML = '';\n",
              "          dataTable['output_type'] = 'display_data';\n",
              "          await google.colab.output.renderOutput(dataTable, element);\n",
              "          const docLink = document.createElement('div');\n",
              "          docLink.innerHTML = docLinkHtml;\n",
              "          element.appendChild(docLink);\n",
              "        }\n",
              "      </script>\n",
              "    </div>\n",
              "  </div>\n",
              "  "
            ]
          },
          "metadata": {},
          "execution_count": 22
        }
      ]
    },
    {
      "cell_type": "markdown",
      "source": [
        "#### Modeling"
      ],
      "metadata": {
        "id": "TV9ZoC6pbaNu"
      }
    },
    {
      "cell_type": "code",
      "source": [
        "df['down'] = df['down'].astype('category')\n",
        "df_no_ids = df.drop(columns = ['game_id', 'play_id', 'name', 'season'])\n",
        "df_no_ids = pd.get_dummies(df_no_ids, columns = ['down'])"
      ],
      "metadata": {
        "colab": {
          "base_uri": "https://localhost:8080/"
        },
        "id": "ozOEszKMbZiA",
        "outputId": "ffe40b5d-aa29-4e02-f1b6-c1baa5c429de"
      },
      "execution_count": 24,
      "outputs": [
        {
          "output_type": "stream",
          "name": "stderr",
          "text": [
            "<ipython-input-24-d94badeda5ff>:1: SettingWithCopyWarning: \n",
            "A value is trying to be set on a copy of a slice from a DataFrame.\n",
            "Try using .loc[row_indexer,col_indexer] = value instead\n",
            "\n",
            "See the caveats in the documentation: https://pandas.pydata.org/pandas-docs/stable/user_guide/indexing.html#returning-a-view-versus-a-copy\n",
            "  df['down'] = df['down'].astype('category')\n"
          ]
        }
      ]
    },
    {
      "cell_type": "code",
      "source": [
        "df_no_ids.columns"
      ],
      "metadata": {
        "colab": {
          "base_uri": "https://localhost:8080/"
        },
        "id": "9_QxjgwlbMIt",
        "outputId": "fa3405f1-6ebd-4631-a10c-c2ef7f17c342"
      },
      "execution_count": 25,
      "outputs": [
        {
          "output_type": "execute_result",
          "data": {
            "text/plain": [
              "Index(['ydstogo', 'yardline_100', 'game_seconds_remaining', 'defenders_in_box',\n",
              "       'number_of_pass_rushers', 'xpass', 'obvious_pass', 'sack', 'down_1.0',\n",
              "       'down_2.0', 'down_3.0', 'down_4.0'],\n",
              "      dtype='object')"
            ]
          },
          "metadata": {},
          "execution_count": 25
        }
      ]
    },
    {
      "cell_type": "code",
      "source": [
        "sss = StratifiedShuffleSplit(n_splits=1, test_size=0.25, random_state=42)\n",
        "for train_index, test_index in sss.split(df_no_ids, df_no_ids['sack']):\n",
        "    strat_train_set = df_no_ids.iloc[train_index]\n",
        "    strat_test_set = df_no_ids.iloc[test_index]\n",
        "\n",
        "X_train = strat_train_set.drop(columns = ['sack'])\n",
        "Y_train = strat_train_set['sack']\n",
        "X_test = strat_test_set.drop(columns = ['sack'])\n",
        "Y_test = strat_test_set['sack']"
      ],
      "metadata": {
        "id": "GHLi33Ywb7a-"
      },
      "execution_count": 26,
      "outputs": []
    },
    {
      "cell_type": "code",
      "source": [
        "LR = LogisticRegression()\n",
        "LR.fit(X_train, Y_train)\n",
        "\n",
        "LR_pred = pd.DataFrame(LR.predict_proba(X_test), columns = ['no_sack', 'sack'])[['sack']]\n",
        "\n",
        "print('Brier Score: ', brier_score_loss(Y_test, LR_pred))"
      ],
      "metadata": {
        "colab": {
          "base_uri": "https://localhost:8080/"
        },
        "id": "zguEyR8_cm6Z",
        "outputId": "8071c476-f2e1-4ef7-d5f6-5647682017e4"
      },
      "execution_count": 27,
      "outputs": [
        {
          "output_type": "stream",
          "name": "stdout",
          "text": [
            "Brier Score:  0.058958630116350455\n"
          ]
        }
      ]
    },
    {
      "cell_type": "code",
      "source": [
        "RF = RandomForestClassifier()\n",
        "RF.fit(X_train, Y_train)\n",
        "\n",
        "RF_pred = pd.DataFrame(RF.predict_proba(X_test), columns = ['no_sack', 'sack'])[['sack']]\n",
        "\n",
        "print('Brier Score: ', brier_score_loss(Y_test, RF_pred))"
      ],
      "metadata": {
        "colab": {
          "base_uri": "https://localhost:8080/"
        },
        "id": "7zcOPpIMc0Wa",
        "outputId": "6901e3c0-f5e1-466e-994b-0e181fdb1cd8"
      },
      "execution_count": 28,
      "outputs": [
        {
          "output_type": "stream",
          "name": "stdout",
          "text": [
            "Brier Score:  0.062351494919372655\n"
          ]
        }
      ]
    },
    {
      "cell_type": "code",
      "source": [
        "XGB = XGBClassifier(objective=\"binary:logistic\", random_state=42)\n",
        "XGB.fit(X_train, Y_train)\n",
        "\n",
        "XGB_pred = pd.DataFrame(XGB.predict_proba(X_test), columns = ['no_sack', 'sack'])[['sack']]\n",
        "\n",
        "print('Brier Score: ', brier_score_loss(Y_test, XGB_pred))"
      ],
      "metadata": {
        "colab": {
          "base_uri": "https://localhost:8080/"
        },
        "id": "Y6653D6hdXND",
        "outputId": "cabd5d0f-ffd8-4fae-91c8-5f281de66f21"
      },
      "execution_count": 29,
      "outputs": [
        {
          "output_type": "stream",
          "name": "stdout",
          "text": [
            "Brier Score:  0.058118945589371154\n"
          ]
        }
      ]
    },
    {
      "cell_type": "code",
      "source": [
        "sorted_idx = XGB.feature_importances_.argsort()\n",
        "plt.barh(X_train.columns[sorted_idx], XGB.feature_importances_[sorted_idx])\n",
        "plt.title(\"XGBClassifier Feature Importance\")\n",
        "plt.show()"
      ],
      "metadata": {
        "colab": {
          "base_uri": "https://localhost:8080/",
          "height": 281
        },
        "id": "9KhQ85yfdjb4",
        "outputId": "b721c7a1-4285-4696-f8d3-de5acccdc6c7"
      },
      "execution_count": 30,
      "outputs": [
        {
          "output_type": "display_data",
          "data": {
            "text/plain": [
              "<Figure size 432x288 with 1 Axes>"
            ],
            "image/png": "[encoded data removed]"
          },
          "metadata": {
            "needs_background": "light"
          }
        }
      ]
    },
    {
      "cell_type": "code",
      "source": [
        "make_sacks_preds = df_no_ids.drop('sack', axis = 1)\n",
        "XGB_total_predictions = pd.DataFrame(XGB.predict_proba(make_sacks_preds), columns = ['no_sack', 'sack_pred'])[['sack_pred']]\n",
        "\n",
        "sacks_preds = df.reset_index().drop(columns = ['index'])\n",
        "sacks_preds['sack_pred'] = XGB_total_predictions\n",
        "\n",
        "sacks_preds['sacks_oe'] = sacks_preds['sack'] - sacks_preds['sack_pred']\n",
        "sacks_preds[(sacks_preds['season'] == 2022)].groupby('name').agg({'sack': 'sum', 'sack_pred': 'sum', 'sacks_oe': 'sum'}).reset_index().sort_values('sacks_oe', ascending = True)"
      ],
      "metadata": {
        "colab": {
          "base_uri": "https://localhost:8080/",
          "height": 424
        },
        "id": "kybx8f-xdnxO",
        "outputId": "393b3af4-cd6d-4ec1-ec37-d70d03486d4c"
      },
      "execution_count": 41,
      "outputs": [
        {
          "output_type": "execute_result",
          "data": {
            "text/plain": [
              "            name  sack  sack_pred   sacks_oe\n",
              "94       T.Brady  24.0  49.013634 -25.013634\n",
              "51        J.Goff  23.0  39.013786 -16.013786\n",
              "100   T.Lawrence  31.0  43.774265 -12.774266\n",
              "83     P.Mahomes  29.0  41.050343 -12.050343\n",
              "34    D.Prescott  22.0  30.967075  -8.967076\n",
              "..           ...   ...        ...        ...\n",
              "86   R.Tannehill  33.0  24.038977   8.961024\n",
              "8     B.Mayfield  36.0  24.500473  11.499527\n",
              "32       D.Jones  52.0  37.950249  14.049751\n",
              "87      R.Wilson  55.0  35.060253  19.939747\n",
              "48      J.Fields  55.0  24.439682  30.560318\n",
              "\n",
              "[106 rows x 4 columns]"
            ],
            "text/html": [
              "\n",
              "  <div id=\"df-2d085aa6-3603-486a-a9b0-88074fb6ce5f\">\n",
              "    <div class=\"colab-df-container\">\n",
              "      <div>\n",
              "<style scoped>\n",
              "    .dataframe tbody tr th:only-of-type {\n",
              "        vertical-align: middle;\n",
              "    }\n",
              "\n",
              "    .dataframe tbody tr th {\n",
              "        vertical-align: top;\n",
              "    }\n",
              "\n",
              "    .dataframe thead th {\n",
              "        text-align: right;\n",
              "    }\n",
              "</style>\n",
              "<table border=\"1\" class=\"dataframe\">\n",
              "  <thead>\n",
              "    <tr style=\"text-align: right;\">\n",
              "      <th></th>\n",
              "      <th>name</th>\n",
              "      <th>sack</th>\n",
              "      <th>sack_pred</th>\n",
              "      <th>sacks_oe</th>\n",
              "    </tr>\n",
              "  </thead>\n",
              "  <tbody>\n",
              "    <tr>\n",
              "      <th>94</th>\n",
              "      <td>T.Brady</td>\n",
              "      <td>24.0</td>\n",
              "      <td>49.013634</td>\n",
              "      <td>-25.013634</td>\n",
              "    </tr>\n",
              "    <tr>\n",
              "      <th>51</th>\n",
              "      <td>J.Goff</td>\n",
              "      <td>23.0</td>\n",
              "      <td>39.013786</td>\n",
              "      <td>-16.013786</td>\n",
              "    </tr>\n",
              "    <tr>\n",
              "      <th>100</th>\n",
              "      <td>T.Lawrence</td>\n",
              "      <td>31.0</td>\n",
              "      <td>43.774265</td>\n",
              "      <td>-12.774266</td>\n",
              "    </tr>\n",
              "    <tr>\n",
              "      <th>83</th>\n",
              "      <td>P.Mahomes</td>\n",
              "      <td>29.0</td>\n",
              "      <td>41.050343</td>\n",
              "      <td>-12.050343</td>\n",
              "    </tr>\n",
              "    <tr>\n",
              "      <th>34</th>\n",
              "      <td>D.Prescott</td>\n",
              "      <td>22.0</td>\n",
              "      <td>30.967075</td>\n",
              "      <td>-8.967076</td>\n",
              "    </tr>\n",
              "    <tr>\n",
              "      <th>...</th>\n",
              "      <td>...</td>\n",
              "      <td>...</td>\n",
              "      <td>...</td>\n",
              "      <td>...</td>\n",
              "    </tr>\n",
              "    <tr>\n",
              "      <th>86</th>\n",
              "      <td>R.Tannehill</td>\n",
              "      <td>33.0</td>\n",
              "      <td>24.038977</td>\n",
              "      <td>8.961024</td>\n",
              "    </tr>\n",
              "    <tr>\n",
              "      <th>8</th>\n",
              "      <td>B.Mayfield</td>\n",
              "      <td>36.0</td>\n",
              "      <td>24.500473</td>\n",
              "      <td>11.499527</td>\n",
              "    </tr>\n",
              "    <tr>\n",
              "      <th>32</th>\n",
              "      <td>D.Jones</td>\n",
              "      <td>52.0</td>\n",
              "      <td>37.950249</td>\n",
              "      <td>14.049751</td>\n",
              "    </tr>\n",
              "    <tr>\n",
              "      <th>87</th>\n",
              "      <td>R.Wilson</td>\n",
              "      <td>55.0</td>\n",
              "      <td>35.060253</td>\n",
              "      <td>19.939747</td>\n",
              "    </tr>\n",
              "    <tr>\n",
              "      <th>48</th>\n",
              "      <td>J.Fields</td>\n",
              "      <td>55.0</td>\n",
              "      <td>24.439682</td>\n",
              "      <td>30.560318</td>\n",
              "    </tr>\n",
              "  </tbody>\n",
              "</table>\n",
              "<p>106 rows × 4 columns</p>\n",
              "</div>\n",
              "      <button class=\"colab-df-convert\" onclick=\"convertToInteractive('df-2d085aa6-3603-486a-a9b0-88074fb6ce5f')\"\n",
              "              title=\"Convert this dataframe to an interactive table.\"\n",
              "              style=\"display:none;\">\n",
              "        \n",
              "  <svg xmlns=\"http://www.w3.org/2000/svg\" height=\"24px\"viewBox=\"0 0 24 24\"\n",
              "       width=\"24px\">\n",
              "    <path d=\"M0 0h24v24H0V0z\" fill=\"none\"/>\n",
              "    <path d=\"M18.56 5.44l.94 2.06.94-2.06 2.06-.94-2.06-.94-.94-2.06-.94 2.06-2.06.94zm-11 1L8.5 8.5l.94-2.06 2.06-.94-2.06-.94L8.5 2.5l-.94 2.06-2.06.94zm10 10l.94 2.06.94-2.06 2.06-.94-2.06-.94-.94-2.06-.94 2.06-2.06.94z\"/><path d=\"M17.41 7.96l-1.37-1.37c-.4-.4-.92-.59-1.43-.59-.52 0-1.04.2-1.43.59L10.3 9.45l-7.72 7.72c-.78.78-.78 2.05 0 2.83L4 21.41c.39.39.9.59 1.41.59.51 0 1.02-.2 1.41-.59l7.78-7.78 2.81-2.81c.8-.78.8-2.07 0-2.86zM5.41 20L4 18.59l7.72-7.72 1.47 1.35L5.41 20z\"/>\n",
              "  </svg>\n",
              "      </button>\n",
              "      \n",
              "  <style>\n",
              "    .colab-df-container {\n",
              "      display:flex;\n",
              "      flex-wrap:wrap;\n",
              "      gap: 12px;\n",
              "    }\n",
              "\n",
              "    .colab-df-convert {\n",
              "      background-color: #E8F0FE;\n",
              "      border: none;\n",
              "      border-radius: 50%;\n",
              "      cursor: pointer;\n",
              "      display: none;\n",
              "      fill: #1967D2;\n",
              "      height: 32px;\n",
              "      padding: 0 0 0 0;\n",
              "      width: 32px;\n",
              "    }\n",
              "\n",
              "    .colab-df-convert:hover {\n",
              "      background-color: #E2EBFA;\n",
              "      box-shadow: 0px 1px 2px rgba(60, 64, 67, 0.3), 0px 1px 3px 1px rgba(60, 64, 67, 0.15);\n",
              "      fill: #174EA6;\n",
              "    }\n",
              "\n",
              "    [theme=dark] .colab-df-convert {\n",
              "      background-color: #3B4455;\n",
              "      fill: #D2E3FC;\n",
              "    }\n",
              "\n",
              "    [theme=dark] .colab-df-convert:hover {\n",
              "      background-color: #434B5C;\n",
              "      box-shadow: 0px 1px 3px 1px rgba(0, 0, 0, 0.15);\n",
              "      filter: drop-shadow(0px 1px 2px rgba(0, 0, 0, 0.3));\n",
              "      fill: #FFFFFF;\n",
              "    }\n",
              "  </style>\n",
              "\n",
              "      <script>\n",
              "        const buttonEl =\n",
              "          document.querySelector('#df-2d085aa6-3603-486a-a9b0-88074fb6ce5f button.colab-df-convert');\n",
              "        buttonEl.style.display =\n",
              "          google.colab.kernel.accessAllowed ? 'block' : 'none';\n",
              "\n",
              "        async function convertToInteractive(key) {\n",
              "          const element = document.querySelector('#df-2d085aa6-3603-486a-a9b0-88074fb6ce5f');\n",
              "          const dataTable =\n",
              "            await google.colab.kernel.invokeFunction('convertToInteractive',\n",
              "                                                     [key], {});\n",
              "          if (!dataTable) return;\n",
              "\n",
              "          const docLinkHtml = 'Like what you see? Visit the ' +\n",
              "            '<a target=\"_blank\" href=https://colab.research.google.com/notebooks/data_table.ipynb>data table notebook</a>'\n",
              "            + ' to learn more about interactive tables.';\n",
              "          element.innerHTML = '';\n",
              "          dataTable['output_type'] = 'display_data';\n",
              "          await google.colab.output.renderOutput(dataTable, element);\n",
              "          const docLink = document.createElement('div');\n",
              "          docLink.innerHTML = docLinkHtml;\n",
              "          element.appendChild(docLink);\n",
              "        }\n",
              "      </script>\n",
              "    </div>\n",
              "  </div>\n",
              "  "
            ]
          },
          "metadata": {},
          "execution_count": 41
        }
      ]
    },
    {
      "cell_type": "code",
      "source": [
        "sns.boxplot( x=sacks_preds[\"sack\"], y=sacks_preds[\"sack_pred\"])\n",
        "plt.show()"
      ],
      "metadata": {
        "colab": {
          "base_uri": "https://localhost:8080/",
          "height": 279
        },
        "id": "UrWxK4Q_eAPo",
        "outputId": "205b4b8a-27e4-4d91-f56b-321fc5dd91d2"
      },
      "execution_count": 42,
      "outputs": [
        {
          "output_type": "display_data",
          "data": {
            "text/plain": [
              "<Figure size 432x288 with 1 Axes>"
            ],
            "image/png": "[encoded data removed]"
          },
          "metadata": {
            "needs_background": "light"
          }
        }
      ]
    }
  ]
}