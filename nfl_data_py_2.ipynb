{
  "nbformat": 4,
  "nbformat_minor": 0,
  "metadata": {
    "colab": {
      "provenance": [],
      "authorship_tag": "ABX9TyPqFPxnRWN2ZGWauool6GdN",
      "include_colab_link": true
    },
    "kernelspec": {
      "name": "python3",
      "display_name": "Python 3"
    },
    "language_info": {
      "name": "python"
    }
  },
  "cells": [
    {
      "cell_type": "markdown",
      "metadata": {
        "id": "view-in-github",
        "colab_type": "text"
      },
      "source": [
        "<a href=\"https://colab.research.google.com/github/tejseth/nfl-tutorials-2022/blob/master/nfl_data_py_2.ipynb\" target=\"_parent\"><img src=\"https://colab.research.google.com/assets/colab-badge.svg\" alt=\"Open In Colab\"/></a>"
      ]
    },
    {
      "cell_type": "markdown",
      "source": [
        "## Modeling with NFL Data in Python\n"
      ],
      "metadata": {
        "id": "u9t84zITg5kk"
      }
    },
    {
      "cell_type": "markdown",
      "source": [
        "#### Installing Packages "
      ],
      "metadata": {
        "id": "BEYSa7EZg_Jm"
      }
    },
    {
      "cell_type": "code",
      "execution_count": 139,
      "metadata": {
        "id": "R4hsxEl8VLT_"
      },
      "outputs": [],
      "source": [
        "# !pip install nfl_data_py\n",
        "# !pip install pandas\n",
        "# !pip install matplotlib\n",
        "# !pip install seaborn\n",
        "# !pip install numpy\n",
        "# !pip install sklearn\n",
        "# !pip install xgboost"
      ]
    },
    {
      "cell_type": "markdown",
      "source": [
        "#### Loading in Packages"
      ],
      "metadata": {
        "id": "AlI10TzbhB_Y"
      }
    },
    {
      "cell_type": "code",
      "source": [
        "import nfl_data_py as nfl\n",
        "import pandas as pd\n",
        "import matplotlib.pyplot as plt\n",
        "import numpy as np\n",
        "import seaborn as sns\n",
        "from sklearn.model_selection import StratifiedShuffleSplit\n",
        "from sklearn.linear_model import LogisticRegression\n",
        "from sklearn.ensemble import RandomForestClassifier\n",
        "from sklearn.metrics import brier_score_loss\n",
        "from xgboost import XGBClassifier"
      ],
      "metadata": {
        "id": "HspSTbm9fxBw"
      },
      "execution_count": 140,
      "outputs": []
    },
    {
      "cell_type": "markdown",
      "source": [
        "#### Loading in Play-by-Play Data"
      ],
      "metadata": {
        "id": "p5wgClkghEMi"
      }
    },
    {
      "cell_type": "code",
      "source": [
        "pbp = nfl.import_pbp_data([2020, 2021, 2022])"
      ],
      "metadata": {
        "colab": {
          "base_uri": "https://localhost:8080/"
        },
        "id": "9lDNQ1J8f3jt",
        "outputId": "dd4a6d44-9e0c-48e5-db51-f2ef2cc3ec49"
      },
      "execution_count": 91,
      "outputs": [
        {
          "output_type": "stream",
          "name": "stdout",
          "text": [
            "2020 done.\n",
            "2021 done.\n",
            "2022 done.\n",
            "Downcasting floats.\n"
          ]
        }
      ]
    },
    {
      "cell_type": "code",
      "source": [
        "pbp.head()"
      ],
      "metadata": {
        "colab": {
          "base_uri": "https://localhost:8080/",
          "height": 508
        },
        "id": "2W68tE99YXEe",
        "outputId": "81300344-2166-425a-e7c2-cde250cc2d88"
      },
      "execution_count": 92,
      "outputs": [
        {
          "output_type": "execute_result",
          "data": {
            "text/plain": [
              "   play_id         game_id old_game_id home_team away_team season_type  week  \\\n",
              "0      1.0  2020_01_ARI_SF  2020091311        SF       ARI         REG     1   \n",
              "1     39.0  2020_01_ARI_SF  2020091311        SF       ARI         REG     1   \n",
              "2     54.0  2020_01_ARI_SF  2020091311        SF       ARI         REG     1   \n",
              "3     93.0  2020_01_ARI_SF  2020091311        SF       ARI         REG     1   \n",
              "4    118.0  2020_01_ARI_SF  2020091311        SF       ARI         REG     1   \n",
              "\n",
              "  posteam posteam_type defteam  ... offense_formation  offense_personnel  \\\n",
              "0    None         None    None  ...              None               None   \n",
              "1      SF         home     ARI  ...              None               None   \n",
              "2      SF         home     ARI  ...           SHOTGUN   2 RB, 1 TE, 2 WR   \n",
              "3      SF         home     ARI  ...           SHOTGUN   2 RB, 1 TE, 2 WR   \n",
              "4      SF         home     ARI  ...        SINGLEBACK   2 RB, 1 TE, 2 WR   \n",
              "\n",
              "  defenders_in_box  defense_personnel  number_of_pass_rushers  \\\n",
              "0              NaN               None                     NaN   \n",
              "1              NaN               None                     NaN   \n",
              "2              7.0   2 DL, 5 LB, 4 DB                     4.0   \n",
              "3              7.0   2 DL, 5 LB, 4 DB                     NaN   \n",
              "4              7.0   2 DL, 5 LB, 4 DB                     NaN   \n",
              "\n",
              "                                     players_on_play  \\\n",
              "0                                                      \n",
              "1  45142;46331;46674;45037;46253;44878;42579;4637...   \n",
              "2  40078;46078;45069;46113;38551;45185;42718;4781...   \n",
              "3  40078;46078;45069;46113;38551;45185;42718;4781...   \n",
              "4  40078;46078;46113;45069;38551;45185;42718;4781...   \n",
              "\n",
              "                                     offense_players  \\\n",
              "0                                                      \n",
              "1  00-0033258;00-0034490;00-0033862;00-0029747;00...   \n",
              "2  00-0029892;00-0034847;00-0033221;00-0034860;00...   \n",
              "3  00-0029892;00-0034847;00-0033221;00-0034860;00...   \n",
              "4  00-0029892;00-0034847;00-0034860;00-0033221;00...   \n",
              "\n",
              "                                     defense_players  n_offense  n_defense  \n",
              "0                                                           0.0        0.0  \n",
              "1  00-0034073;00-0034730;00-0033783;00-0031961;00...       11.0       11.0  \n",
              "2  00-0029585;00-0035236;00-0031557;00-0035705;00...       11.0       11.0  \n",
              "3  00-0029585;00-0035236;00-0031557;00-0035705;00...       11.0       11.0  \n",
              "4  00-0029585;00-0035236;00-0031557;00-0029747;00...       11.0       11.0  \n",
              "\n",
              "[5 rows x 384 columns]"
            ],
            "text/html": [
              "\n",
              "  <div id=\"df-c01cd982-2e07-42f7-965f-46773501ab41\">\n",
              "    <div class=\"colab-df-container\">\n",
              "      <div>\n",
              "<style scoped>\n",
              "    .dataframe tbody tr th:only-of-type {\n",
              "        vertical-align: middle;\n",
              "    }\n",
              "\n",
              "    .dataframe tbody tr th {\n",
              "        vertical-align: top;\n",
              "    }\n",
              "\n",
              "    .dataframe thead th {\n",
              "        text-align: right;\n",
              "    }\n",
              "</style>\n",
              "<table border=\"1\" class=\"dataframe\">\n",
              "  <thead>\n",
              "    <tr style=\"text-align: right;\">\n",
              "      <th></th>\n",
              "      <th>play_id</th>\n",
              "      <th>game_id</th>\n",
              "      <th>old_game_id</th>\n",
              "      <th>home_team</th>\n",
              "      <th>away_team</th>\n",
              "      <th>season_type</th>\n",
              "      <th>week</th>\n",
              "      <th>posteam</th>\n",
              "      <th>posteam_type</th>\n",
              "      <th>defteam</th>\n",
              "      <th>...</th>\n",
              "      <th>offense_formation</th>\n",
              "      <th>offense_personnel</th>\n",
              "      <th>defenders_in_box</th>\n",
              "      <th>defense_personnel</th>\n",
              "      <th>number_of_pass_rushers</th>\n",
              "      <th>players_on_play</th>\n",
              "      <th>offense_players</th>\n",
              "      <th>defense_players</th>\n",
              "      <th>n_offense</th>\n",
              "      <th>n_defense</th>\n",
              "    </tr>\n",
              "  </thead>\n",
              "  <tbody>\n",
              "    <tr>\n",
              "      <th>0</th>\n",
              "      <td>1.0</td>\n",
              "      <td>2020_01_ARI_SF</td>\n",
              "      <td>2020091311</td>\n",
              "      <td>SF</td>\n",
              "      <td>ARI</td>\n",
              "      <td>REG</td>\n",
              "      <td>1</td>\n",
              "      <td>None</td>\n",
              "      <td>None</td>\n",
              "      <td>None</td>\n",
              "      <td>...</td>\n",
              "      <td>None</td>\n",
              "      <td>None</td>\n",
              "      <td>NaN</td>\n",
              "      <td>None</td>\n",
              "      <td>NaN</td>\n",
              "      <td></td>\n",
              "      <td></td>\n",
              "      <td></td>\n",
              "      <td>0.0</td>\n",
              "      <td>0.0</td>\n",
              "    </tr>\n",
              "    <tr>\n",
              "      <th>1</th>\n",
              "      <td>39.0</td>\n",
              "      <td>2020_01_ARI_SF</td>\n",
              "      <td>2020091311</td>\n",
              "      <td>SF</td>\n",
              "      <td>ARI</td>\n",
              "      <td>REG</td>\n",
              "      <td>1</td>\n",
              "      <td>SF</td>\n",
              "      <td>home</td>\n",
              "      <td>ARI</td>\n",
              "      <td>...</td>\n",
              "      <td>None</td>\n",
              "      <td>None</td>\n",
              "      <td>NaN</td>\n",
              "      <td>None</td>\n",
              "      <td>NaN</td>\n",
              "      <td>45142;46331;46674;45037;46253;44878;42579;4637...</td>\n",
              "      <td>00-0033258;00-0034490;00-0033862;00-0029747;00...</td>\n",
              "      <td>00-0034073;00-0034730;00-0033783;00-0031961;00...</td>\n",
              "      <td>11.0</td>\n",
              "      <td>11.0</td>\n",
              "    </tr>\n",
              "    <tr>\n",
              "      <th>2</th>\n",
              "      <td>54.0</td>\n",
              "      <td>2020_01_ARI_SF</td>\n",
              "      <td>2020091311</td>\n",
              "      <td>SF</td>\n",
              "      <td>ARI</td>\n",
              "      <td>REG</td>\n",
              "      <td>1</td>\n",
              "      <td>SF</td>\n",
              "      <td>home</td>\n",
              "      <td>ARI</td>\n",
              "      <td>...</td>\n",
              "      <td>SHOTGUN</td>\n",
              "      <td>2 RB, 1 TE, 2 WR</td>\n",
              "      <td>7.0</td>\n",
              "      <td>2 DL, 5 LB, 4 DB</td>\n",
              "      <td>4.0</td>\n",
              "      <td>40078;46078;45069;46113;38551;45185;42718;4781...</td>\n",
              "      <td>00-0029892;00-0034847;00-0033221;00-0034860;00...</td>\n",
              "      <td>00-0029585;00-0035236;00-0031557;00-0035705;00...</td>\n",
              "      <td>11.0</td>\n",
              "      <td>11.0</td>\n",
              "    </tr>\n",
              "    <tr>\n",
              "      <th>3</th>\n",
              "      <td>93.0</td>\n",
              "      <td>2020_01_ARI_SF</td>\n",
              "      <td>2020091311</td>\n",
              "      <td>SF</td>\n",
              "      <td>ARI</td>\n",
              "      <td>REG</td>\n",
              "      <td>1</td>\n",
              "      <td>SF</td>\n",
              "      <td>home</td>\n",
              "      <td>ARI</td>\n",
              "      <td>...</td>\n",
              "      <td>SHOTGUN</td>\n",
              "      <td>2 RB, 1 TE, 2 WR</td>\n",
              "      <td>7.0</td>\n",
              "      <td>2 DL, 5 LB, 4 DB</td>\n",
              "      <td>NaN</td>\n",
              "      <td>40078;46078;45069;46113;38551;45185;42718;4781...</td>\n",
              "      <td>00-0029892;00-0034847;00-0033221;00-0034860;00...</td>\n",
              "      <td>00-0029585;00-0035236;00-0031557;00-0035705;00...</td>\n",
              "      <td>11.0</td>\n",
              "      <td>11.0</td>\n",
              "    </tr>\n",
              "    <tr>\n",
              "      <th>4</th>\n",
              "      <td>118.0</td>\n",
              "      <td>2020_01_ARI_SF</td>\n",
              "      <td>2020091311</td>\n",
              "      <td>SF</td>\n",
              "      <td>ARI</td>\n",
              "      <td>REG</td>\n",
              "      <td>1</td>\n",
              "      <td>SF</td>\n",
              "      <td>home</td>\n",
              "      <td>ARI</td>\n",
              "      <td>...</td>\n",
              "      <td>SINGLEBACK</td>\n",
              "      <td>2 RB, 1 TE, 2 WR</td>\n",
              "      <td>7.0</td>\n",
              "      <td>2 DL, 5 LB, 4 DB</td>\n",
              "      <td>NaN</td>\n",
              "      <td>40078;46078;46113;45069;38551;45185;42718;4781...</td>\n",
              "      <td>00-0029892;00-0034847;00-0034860;00-0033221;00...</td>\n",
              "      <td>00-0029585;00-0035236;00-0031557;00-0029747;00...</td>\n",
              "      <td>11.0</td>\n",
              "      <td>11.0</td>\n",
              "    </tr>\n",
              "  </tbody>\n",
              "</table>\n",
              "<p>5 rows × 384 columns</p>\n",
              "</div>\n",
              "      <button class=\"colab-df-convert\" onclick=\"convertToInteractive('df-c01cd982-2e07-42f7-965f-46773501ab41')\"\n",
              "              title=\"Convert this dataframe to an interactive table.\"\n",
              "              style=\"display:none;\">\n",
              "        \n",
              "  <svg xmlns=\"http://www.w3.org/2000/svg\" height=\"24px\"viewBox=\"0 0 24 24\"\n",
              "       width=\"24px\">\n",
              "    <path d=\"M0 0h24v24H0V0z\" fill=\"none\"/>\n",
              "    <path d=\"M18.56 5.44l.94 2.06.94-2.06 2.06-.94-2.06-.94-.94-2.06-.94 2.06-2.06.94zm-11 1L8.5 8.5l.94-2.06 2.06-.94-2.06-.94L8.5 2.5l-.94 2.06-2.06.94zm10 10l.94 2.06.94-2.06 2.06-.94-2.06-.94-.94-2.06-.94 2.06-2.06.94z\"/><path d=\"M17.41 7.96l-1.37-1.37c-.4-.4-.92-.59-1.43-.59-.52 0-1.04.2-1.43.59L10.3 9.45l-7.72 7.72c-.78.78-.78 2.05 0 2.83L4 21.41c.39.39.9.59 1.41.59.51 0 1.02-.2 1.41-.59l7.78-7.78 2.81-2.81c.8-.78.8-2.07 0-2.86zM5.41 20L4 18.59l7.72-7.72 1.47 1.35L5.41 20z\"/>\n",
              "  </svg>\n",
              "      </button>\n",
              "      \n",
              "  <style>\n",
              "    .colab-df-container {\n",
              "      display:flex;\n",
              "      flex-wrap:wrap;\n",
              "      gap: 12px;\n",
              "    }\n",
              "\n",
              "    .colab-df-convert {\n",
              "      background-color: #E8F0FE;\n",
              "      border: none;\n",
              "      border-radius: 50%;\n",
              "      cursor: pointer;\n",
              "      display: none;\n",
              "      fill: #1967D2;\n",
              "      height: 32px;\n",
              "      padding: 0 0 0 0;\n",
              "      width: 32px;\n",
              "    }\n",
              "\n",
              "    .colab-df-convert:hover {\n",
              "      background-color: #E2EBFA;\n",
              "      box-shadow: 0px 1px 2px rgba(60, 64, 67, 0.3), 0px 1px 3px 1px rgba(60, 64, 67, 0.15);\n",
              "      fill: #174EA6;\n",
              "    }\n",
              "\n",
              "    [theme=dark] .colab-df-convert {\n",
              "      background-color: #3B4455;\n",
              "      fill: #D2E3FC;\n",
              "    }\n",
              "\n",
              "    [theme=dark] .colab-df-convert:hover {\n",
              "      background-color: #434B5C;\n",
              "      box-shadow: 0px 1px 3px 1px rgba(0, 0, 0, 0.15);\n",
              "      filter: drop-shadow(0px 1px 2px rgba(0, 0, 0, 0.3));\n",
              "      fill: #FFFFFF;\n",
              "    }\n",
              "  </style>\n",
              "\n",
              "      <script>\n",
              "        const buttonEl =\n",
              "          document.querySelector('#df-c01cd982-2e07-42f7-965f-46773501ab41 button.colab-df-convert');\n",
              "        buttonEl.style.display =\n",
              "          google.colab.kernel.accessAllowed ? 'block' : 'none';\n",
              "\n",
              "        async function convertToInteractive(key) {\n",
              "          const element = document.querySelector('#df-c01cd982-2e07-42f7-965f-46773501ab41');\n",
              "          const dataTable =\n",
              "            await google.colab.kernel.invokeFunction('convertToInteractive',\n",
              "                                                     [key], {});\n",
              "          if (!dataTable) return;\n",
              "\n",
              "          const docLinkHtml = 'Like what you see? Visit the ' +\n",
              "            '<a target=\"_blank\" href=https://colab.research.google.com/notebooks/data_table.ipynb>data table notebook</a>'\n",
              "            + ' to learn more about interactive tables.';\n",
              "          element.innerHTML = '';\n",
              "          dataTable['output_type'] = 'display_data';\n",
              "          await google.colab.output.renderOutput(dataTable, element);\n",
              "          const docLink = document.createElement('div');\n",
              "          docLink.innerHTML = docLinkHtml;\n",
              "          element.appendChild(docLink);\n",
              "        }\n",
              "      </script>\n",
              "    </div>\n",
              "  </div>\n",
              "  "
            ]
          },
          "metadata": {},
          "execution_count": 92
        }
      ]
    },
    {
      "cell_type": "markdown",
      "source": [
        "#### Getting Dataset Ready for Modeling"
      ],
      "metadata": {
        "id": "tV9Fo0cYhXks"
      }
    },
    {
      "cell_type": "code",
      "source": [
        "print(pbp.shape)\n",
        "pbp_clean = pbp[(pbp['pass'] == 1) & (pbp['play_type'] != \"no_play\")]\n",
        "print(pbp_clean.shape)"
      ],
      "metadata": {
        "colab": {
          "base_uri": "https://localhost:8080/"
        },
        "id": "JX6BzAR2RoGs",
        "outputId": "7feaa573-e7bd-4366-fd8c-309c8d29c604"
      },
      "execution_count": 99,
      "outputs": [
        {
          "output_type": "stream",
          "name": "stdout",
          "text": [
            "(149195, 384)\n",
            "(64339, 384)\n"
          ]
        }
      ]
    },
    {
      "cell_type": "markdown",
      "source": [
        "#### Doing some EDA"
      ],
      "metadata": {
        "id": "-KEkzGKeTBpB"
      }
    },
    {
      "cell_type": "code",
      "source": [
        "sns.countplot(x=pbp_clean[\"sack\"])\n",
        "plt.show()"
      ],
      "metadata": {
        "colab": {
          "base_uri": "https://localhost:8080/",
          "height": 279
        },
        "id": "x0zYqvtqbPFg",
        "outputId": "a2716c9c-b82e-4f5b-9395-35142c051803"
      },
      "execution_count": 112,
      "outputs": [
        {
          "output_type": "display_data",
          "data": {
            "text/plain": [
              "<Figure size 432x288 with 1 Axes>"
            ],
            "image/png": "[encoded data removed]"
          },
          "metadata": {
            "needs_background": "light"
          }
        }
      ]
    },
    {
      "cell_type": "code",
      "source": [
        "sacks = pbp_clean[(pbp_clean['sack'] == 1)]\n",
        "sns.countplot(x=sacks[\"down\"])\n",
        "plt.show()"
      ],
      "metadata": {
        "colab": {
          "base_uri": "https://localhost:8080/",
          "height": 282
        },
        "id": "qmRd3EPJR7bI",
        "outputId": "afd4f3e2-1990-41fd-f234-7027da7968cf"
      },
      "execution_count": 100,
      "outputs": [
        {
          "output_type": "display_data",
          "data": {
            "text/plain": [
              "<Figure size 432x288 with 1 Axes>"
            ],
            "image/png": "[encoded data removed]"
          },
          "metadata": {
            "needs_background": "light"
          }
        }
      ]
    },
    {
      "cell_type": "code",
      "source": [
        "sacks = pbp_clean[(pbp_clean['sack'] == 1)]\n",
        "sns.countplot(x=sacks[\"number_of_pass_rushers\"])\n",
        "plt.show()"
      ],
      "metadata": {
        "colab": {
          "base_uri": "https://localhost:8080/",
          "height": 280
        },
        "id": "hmFabiG0YgVb",
        "outputId": "23ca7af3-bf39-4692-d7b1-e54ec74b928b"
      },
      "execution_count": 103,
      "outputs": [
        {
          "output_type": "display_data",
          "data": {
            "text/plain": [
              "<Figure size 432x288 with 1 Axes>"
            ],
            "image/png": "[encoded data removed]"
          },
          "metadata": {
            "needs_background": "light"
          }
        }
      ]
    },
    {
      "cell_type": "code",
      "source": [
        "sacks = pbp_clean[(pbp_clean['sack'] == 1)]\n",
        "sns.countplot(x=sacks[\"defenders_in_box\"])\n",
        "plt.show()"
      ],
      "metadata": {
        "colab": {
          "base_uri": "https://localhost:8080/",
          "height": 280
        },
        "id": "LPN1d-Xqa2n3",
        "outputId": "132d1463-7239-4576-deca-3a551226e2ee"
      },
      "execution_count": 105,
      "outputs": [
        {
          "output_type": "display_data",
          "data": {
            "text/plain": [
              "<Figure size 432x288 with 1 Axes>"
            ],
            "image/png": "[encoded data removed]"
          },
          "metadata": {
            "needs_background": "light"
          }
        }
      ]
    },
    {
      "cell_type": "markdown",
      "source": [
        "#### Feature Engineering"
      ],
      "metadata": {
        "id": "o4r5rRf7T3AG"
      }
    },
    {
      "cell_type": "code",
      "source": [
        "pbp_clean['obvious_pass'] = np.where((pbp_clean['down'] == 3) & (pbp_clean['ydstogo'] >= 6), 1,0)"
      ],
      "metadata": {
        "colab": {
          "base_uri": "https://localhost:8080/"
        },
        "id": "iwjl7_xZTKV0",
        "outputId": "970b9688-64e2-4538-e33a-94eb5e940cf5"
      },
      "execution_count": 102,
      "outputs": [
        {
          "output_type": "stream",
          "name": "stderr",
          "text": [
            "<ipython-input-102-aefebe19c44f>:1: SettingWithCopyWarning: \n",
            "A value is trying to be set on a copy of a slice from a DataFrame.\n",
            "Try using .loc[row_indexer,col_indexer] = value instead\n",
            "\n",
            "See the caveats in the documentation: https://pandas.pydata.org/pandas-docs/stable/user_guide/indexing.html#returning-a-view-versus-a-copy\n",
            "  pbp_clean['obvious_pass'] = np.where((pbp_clean['down'] == 3) & (pbp_clean['ydstogo'] >= 6), 1,0)\n"
          ]
        }
      ]
    },
    {
      "cell_type": "code",
      "source": [
        "pre_df = pbp_clean[['game_id', 'play_id', 'name', 'down', 'ydstogo', 'yardline_100', 'game_seconds_remaining',\n",
        "                    'defenders_in_box', 'number_of_pass_rushers', 'xpass', 'obvious_pass', 'sack']]\n",
        "df = pre_df.dropna()\n",
        "df.isna().sum()"
      ],
      "metadata": {
        "colab": {
          "base_uri": "https://localhost:8080/"
        },
        "id": "WdTp31h-TXnu",
        "outputId": "3dd27833-769b-4cde-8b7d-3ea3f584115e"
      },
      "execution_count": 114,
      "outputs": [
        {
          "output_type": "execute_result",
          "data": {
            "text/plain": [
              "game_id                   0\n",
              "play_id                   0\n",
              "name                      0\n",
              "down                      0\n",
              "ydstogo                   0\n",
              "yardline_100              0\n",
              "game_seconds_remaining    0\n",
              "defenders_in_box          0\n",
              "number_of_pass_rushers    0\n",
              "xpass                     0\n",
              "obvious_pass              0\n",
              "sack                      0\n",
              "dtype: int64"
            ]
          },
          "metadata": {},
          "execution_count": 114
        }
      ]
    },
    {
      "cell_type": "code",
      "source": [
        "df.head()"
      ],
      "metadata": {
        "colab": {
          "base_uri": "https://localhost:8080/",
          "height": 270
        },
        "id": "y3br8ar9Vy3e",
        "outputId": "f84d0432-93dd-4c79-beee-48ddb31f42a4"
      },
      "execution_count": 115,
      "outputs": [
        {
          "output_type": "execute_result",
          "data": {
            "text/plain": [
              "           game_id  play_id         name  down  ydstogo  yardline_100  \\\n",
              "2   2020_01_ARI_SF     54.0  J.Garoppolo   1.0     10.0          75.0   \n",
              "6   2020_01_ARI_SF    165.0  J.Garoppolo   3.0     14.0          45.0   \n",
              "9   2020_01_ARI_SF    245.0     K.Murray   1.0     10.0          75.0   \n",
              "10  2020_01_ARI_SF    274.0     K.Murray   2.0      7.0          72.0   \n",
              "11  2020_01_ARI_SF    298.0     K.Murray   1.0     10.0          65.0   \n",
              "\n",
              "    game_seconds_remaining  defenders_in_box  number_of_pass_rushers  \\\n",
              "2                   3600.0               7.0                     4.0   \n",
              "6                   3459.0               5.0                     4.0   \n",
              "9                   3410.0               5.0                     4.0   \n",
              "10                  3384.0               7.0                     4.0   \n",
              "11                  3360.0               6.0                     4.0   \n",
              "\n",
              "       xpass  obvious_pass  sack  \n",
              "2   0.515058             0   0.0  \n",
              "6   0.971992             1   0.0  \n",
              "9   0.442755             0   0.0  \n",
              "10  0.597824             0   0.0  \n",
              "11  0.453060             0   0.0  "
            ],
            "text/html": [
              "\n",
              "  <div id=\"df-b5b59e30-8b50-41a4-a5e0-98a40d5df6f3\">\n",
              "    <div class=\"colab-df-container\">\n",
              "      <div>\n",
              "<style scoped>\n",
              "    .dataframe tbody tr th:only-of-type {\n",
              "        vertical-align: middle;\n",
              "    }\n",
              "\n",
              "    .dataframe tbody tr th {\n",
              "        vertical-align: top;\n",
              "    }\n",
              "\n",
              "    .dataframe thead th {\n",
              "        text-align: right;\n",
              "    }\n",
              "</style>\n",
              "<table border=\"1\" class=\"dataframe\">\n",
              "  <thead>\n",
              "    <tr style=\"text-align: right;\">\n",
              "      <th></th>\n",
              "      <th>game_id</th>\n",
              "      <th>play_id</th>\n",
              "      <th>name</th>\n",
              "      <th>down</th>\n",
              "      <th>ydstogo</th>\n",
              "      <th>yardline_100</th>\n",
              "      <th>game_seconds_remaining</th>\n",
              "      <th>defenders_in_box</th>\n",
              "      <th>number_of_pass_rushers</th>\n",
              "      <th>xpass</th>\n",
              "      <th>obvious_pass</th>\n",
              "      <th>sack</th>\n",
              "    </tr>\n",
              "  </thead>\n",
              "  <tbody>\n",
              "    <tr>\n",
              "      <th>2</th>\n",
              "      <td>2020_01_ARI_SF</td>\n",
              "      <td>54.0</td>\n",
              "      <td>J.Garoppolo</td>\n",
              "      <td>1.0</td>\n",
              "      <td>10.0</td>\n",
              "      <td>75.0</td>\n",
              "      <td>3600.0</td>\n",
              "      <td>7.0</td>\n",
              "      <td>4.0</td>\n",
              "      <td>0.515058</td>\n",
              "      <td>0</td>\n",
              "      <td>0.0</td>\n",
              "    </tr>\n",
              "    <tr>\n",
              "      <th>6</th>\n",
              "      <td>2020_01_ARI_SF</td>\n",
              "      <td>165.0</td>\n",
              "      <td>J.Garoppolo</td>\n",
              "      <td>3.0</td>\n",
              "      <td>14.0</td>\n",
              "      <td>45.0</td>\n",
              "      <td>3459.0</td>\n",
              "      <td>5.0</td>\n",
              "      <td>4.0</td>\n",
              "      <td>0.971992</td>\n",
              "      <td>1</td>\n",
              "      <td>0.0</td>\n",
              "    </tr>\n",
              "    <tr>\n",
              "      <th>9</th>\n",
              "      <td>2020_01_ARI_SF</td>\n",
              "      <td>245.0</td>\n",
              "      <td>K.Murray</td>\n",
              "      <td>1.0</td>\n",
              "      <td>10.0</td>\n",
              "      <td>75.0</td>\n",
              "      <td>3410.0</td>\n",
              "      <td>5.0</td>\n",
              "      <td>4.0</td>\n",
              "      <td>0.442755</td>\n",
              "      <td>0</td>\n",
              "      <td>0.0</td>\n",
              "    </tr>\n",
              "    <tr>\n",
              "      <th>10</th>\n",
              "      <td>2020_01_ARI_SF</td>\n",
              "      <td>274.0</td>\n",
              "      <td>K.Murray</td>\n",
              "      <td>2.0</td>\n",
              "      <td>7.0</td>\n",
              "      <td>72.0</td>\n",
              "      <td>3384.0</td>\n",
              "      <td>7.0</td>\n",
              "      <td>4.0</td>\n",
              "      <td>0.597824</td>\n",
              "      <td>0</td>\n",
              "      <td>0.0</td>\n",
              "    </tr>\n",
              "    <tr>\n",
              "      <th>11</th>\n",
              "      <td>2020_01_ARI_SF</td>\n",
              "      <td>298.0</td>\n",
              "      <td>K.Murray</td>\n",
              "      <td>1.0</td>\n",
              "      <td>10.0</td>\n",
              "      <td>65.0</td>\n",
              "      <td>3360.0</td>\n",
              "      <td>6.0</td>\n",
              "      <td>4.0</td>\n",
              "      <td>0.453060</td>\n",
              "      <td>0</td>\n",
              "      <td>0.0</td>\n",
              "    </tr>\n",
              "  </tbody>\n",
              "</table>\n",
              "</div>\n",
              "      <button class=\"colab-df-convert\" onclick=\"convertToInteractive('df-b5b59e30-8b50-41a4-a5e0-98a40d5df6f3')\"\n",
              "              title=\"Convert this dataframe to an interactive table.\"\n",
              "              style=\"display:none;\">\n",
              "        \n",
              "  <svg xmlns=\"http://www.w3.org/2000/svg\" height=\"24px\"viewBox=\"0 0 24 24\"\n",
              "       width=\"24px\">\n",
              "    <path d=\"M0 0h24v24H0V0z\" fill=\"none\"/>\n",
              "    <path d=\"M18.56 5.44l.94 2.06.94-2.06 2.06-.94-2.06-.94-.94-2.06-.94 2.06-2.06.94zm-11 1L8.5 8.5l.94-2.06 2.06-.94-2.06-.94L8.5 2.5l-.94 2.06-2.06.94zm10 10l.94 2.06.94-2.06 2.06-.94-2.06-.94-.94-2.06-.94 2.06-2.06.94z\"/><path d=\"M17.41 7.96l-1.37-1.37c-.4-.4-.92-.59-1.43-.59-.52 0-1.04.2-1.43.59L10.3 9.45l-7.72 7.72c-.78.78-.78 2.05 0 2.83L4 21.41c.39.39.9.59 1.41.59.51 0 1.02-.2 1.41-.59l7.78-7.78 2.81-2.81c.8-.78.8-2.07 0-2.86zM5.41 20L4 18.59l7.72-7.72 1.47 1.35L5.41 20z\"/>\n",
              "  </svg>\n",
              "      </button>\n",
              "      \n",
              "  <style>\n",
              "    .colab-df-container {\n",
              "      display:flex;\n",
              "      flex-wrap:wrap;\n",
              "      gap: 12px;\n",
              "    }\n",
              "\n",
              "    .colab-df-convert {\n",
              "      background-color: #E8F0FE;\n",
              "      border: none;\n",
              "      border-radius: 50%;\n",
              "      cursor: pointer;\n",
              "      display: none;\n",
              "      fill: #1967D2;\n",
              "      height: 32px;\n",
              "      padding: 0 0 0 0;\n",
              "      width: 32px;\n",
              "    }\n",
              "\n",
              "    .colab-df-convert:hover {\n",
              "      background-color: #E2EBFA;\n",
              "      box-shadow: 0px 1px 2px rgba(60, 64, 67, 0.3), 0px 1px 3px 1px rgba(60, 64, 67, 0.15);\n",
              "      fill: #174EA6;\n",
              "    }\n",
              "\n",
              "    [theme=dark] .colab-df-convert {\n",
              "      background-color: #3B4455;\n",
              "      fill: #D2E3FC;\n",
              "    }\n",
              "\n",
              "    [theme=dark] .colab-df-convert:hover {\n",
              "      background-color: #434B5C;\n",
              "      box-shadow: 0px 1px 3px 1px rgba(0, 0, 0, 0.15);\n",
              "      filter: drop-shadow(0px 1px 2px rgba(0, 0, 0, 0.3));\n",
              "      fill: #FFFFFF;\n",
              "    }\n",
              "  </style>\n",
              "\n",
              "      <script>\n",
              "        const buttonEl =\n",
              "          document.querySelector('#df-b5b59e30-8b50-41a4-a5e0-98a40d5df6f3 button.colab-df-convert');\n",
              "        buttonEl.style.display =\n",
              "          google.colab.kernel.accessAllowed ? 'block' : 'none';\n",
              "\n",
              "        async function convertToInteractive(key) {\n",
              "          const element = document.querySelector('#df-b5b59e30-8b50-41a4-a5e0-98a40d5df6f3');\n",
              "          const dataTable =\n",
              "            await google.colab.kernel.invokeFunction('convertToInteractive',\n",
              "                                                     [key], {});\n",
              "          if (!dataTable) return;\n",
              "\n",
              "          const docLinkHtml = 'Like what you see? Visit the ' +\n",
              "            '<a target=\"_blank\" href=https://colab.research.google.com/notebooks/data_table.ipynb>data table notebook</a>'\n",
              "            + ' to learn more about interactive tables.';\n",
              "          element.innerHTML = '';\n",
              "          dataTable['output_type'] = 'display_data';\n",
              "          await google.colab.output.renderOutput(dataTable, element);\n",
              "          const docLink = document.createElement('div');\n",
              "          docLink.innerHTML = docLinkHtml;\n",
              "          element.appendChild(docLink);\n",
              "        }\n",
              "      </script>\n",
              "    </div>\n",
              "  </div>\n",
              "  "
            ]
          },
          "metadata": {},
          "execution_count": 115
        }
      ]
    },
    {
      "cell_type": "markdown",
      "source": [
        "#### Modeling"
      ],
      "metadata": {
        "id": "TV9ZoC6pbaNu"
      }
    },
    {
      "cell_type": "code",
      "source": [
        "df['down'] = df['down'].astype('category')\n",
        "df_no_ids = df.drop(columns = ['game_id', 'play_id', 'name'])\n",
        "df_no_ids = pd.get_dummies(df_no_ids, columns = ['down'])"
      ],
      "metadata": {
        "colab": {
          "base_uri": "https://localhost:8080/"
        },
        "id": "ozOEszKMbZiA",
        "outputId": "029fc6a2-d9f3-4188-81c6-d38977529c6c"
      },
      "execution_count": 125,
      "outputs": [
        {
          "output_type": "stream",
          "name": "stderr",
          "text": [
            "<ipython-input-125-dc1b936e74bc>:1: SettingWithCopyWarning: \n",
            "A value is trying to be set on a copy of a slice from a DataFrame.\n",
            "Try using .loc[row_indexer,col_indexer] = value instead\n",
            "\n",
            "See the caveats in the documentation: https://pandas.pydata.org/pandas-docs/stable/user_guide/indexing.html#returning-a-view-versus-a-copy\n",
            "  df['down'] = df['down'].astype('category')\n"
          ]
        }
      ]
    },
    {
      "cell_type": "code",
      "source": [
        "df_no_ids.columns"
      ],
      "metadata": {
        "colab": {
          "base_uri": "https://localhost:8080/"
        },
        "id": "9_QxjgwlbMIt",
        "outputId": "8a0ea7d7-c699-479d-aaa9-cc0849b40304"
      },
      "execution_count": 126,
      "outputs": [
        {
          "output_type": "execute_result",
          "data": {
            "text/plain": [
              "Index(['ydstogo', 'yardline_100', 'game_seconds_remaining', 'defenders_in_box',\n",
              "       'number_of_pass_rushers', 'xpass', 'obvious_pass', 'sack', 'down_1.0',\n",
              "       'down_2.0', 'down_3.0', 'down_4.0'],\n",
              "      dtype='object')"
            ]
          },
          "metadata": {},
          "execution_count": 126
        }
      ]
    },
    {
      "cell_type": "code",
      "source": [
        "sss = StratifiedShuffleSplit(n_splits=1, test_size=0.25, random_state=42)\n",
        "for train_index, test_index in sss.split(df_no_ids, df_no_ids['sack']):\n",
        "    strat_train_set = df_no_ids.iloc[train_index]\n",
        "    strat_test_set = df_no_ids.iloc[test_index]\n",
        "\n",
        "X_train = strat_train_set.drop(columns = ['sack'])\n",
        "Y_train = strat_train_set['sack']\n",
        "X_test = strat_test_set.drop(columns = ['sack'])\n",
        "Y_test = strat_test_set['sack']"
      ],
      "metadata": {
        "id": "GHLi33Ywb7a-"
      },
      "execution_count": 127,
      "outputs": []
    },
    {
      "cell_type": "code",
      "source": [
        "LR = LogisticRegression()\n",
        "LR.fit(X_train, Y_train)\n",
        "\n",
        "LR_pred = pd.DataFrame(LR.predict_proba(X_test), columns = ['no_sack', 'sack'])[['sack']]\n",
        "\n",
        "print('Brier Score: ', brier_score_loss(Y_test, LR_pred))"
      ],
      "metadata": {
        "colab": {
          "base_uri": "https://localhost:8080/"
        },
        "id": "zguEyR8_cm6Z",
        "outputId": "d8d0f186-e802-4e90-cace-daee8bbc6671"
      },
      "execution_count": 137,
      "outputs": [
        {
          "output_type": "stream",
          "name": "stdout",
          "text": [
            "Brier Score:  0.058958630116350455\n"
          ]
        }
      ]
    },
    {
      "cell_type": "code",
      "source": [
        "RF = RandomForestClassifier()\n",
        "RF.fit(X_train, Y_train)\n",
        "\n",
        "RF_pred = pd.DataFrame(RF.predict_proba(X_test), columns = ['no_sack', 'sack'])[['sack']]\n",
        "\n",
        "print('Brier Score: ', brier_score_loss(Y_test, RF_pred))"
      ],
      "metadata": {
        "colab": {
          "base_uri": "https://localhost:8080/"
        },
        "id": "7zcOPpIMc0Wa",
        "outputId": "1e9eca51-e9fd-4a97-d480-d30f2f412c4b"
      },
      "execution_count": 138,
      "outputs": [
        {
          "output_type": "stream",
          "name": "stdout",
          "text": [
            "Brier Score:  0.06218318155879537\n"
          ]
        }
      ]
    },
    {
      "cell_type": "code",
      "source": [
        "XGB = XGBClassifier(objective=\"binary:logistic\", random_state=42)\n",
        "XGB.fit(X_train, Y_train)\n",
        "\n",
        "XGB_pred = pd.DataFrame(XGB.predict_proba(X_test), columns = ['no_sack', 'sack'])[['sack']]\n",
        "\n",
        "print('Brier Score: ', brier_score_loss(Y_test, XGB_pred))"
      ],
      "metadata": {
        "colab": {
          "base_uri": "https://localhost:8080/"
        },
        "id": "Y6653D6hdXND",
        "outputId": "bb4cc4ee-978f-4a38-e058-52cf72270565"
      },
      "execution_count": 141,
      "outputs": [
        {
          "output_type": "stream",
          "name": "stdout",
          "text": [
            "Brier Score:  0.058118945589371154\n"
          ]
        }
      ]
    },
    {
      "cell_type": "code",
      "source": [
        "sorted_idx = XGB.feature_importances_.argsort()\n",
        "plt.barh(X_train.columns[sorted_idx], XGB.feature_importances_[sorted_idx])\n",
        "plt.title(\"XGBClassifier Feature Importance\")\n",
        "plt.show()"
      ],
      "metadata": {
        "colab": {
          "base_uri": "https://localhost:8080/",
          "height": 281
        },
        "id": "9KhQ85yfdjb4",
        "outputId": "b4114ff4-eab5-4a3e-c02e-348f9aa5ed6e"
      },
      "execution_count": 143,
      "outputs": [
        {
          "output_type": "display_data",
          "data": {
            "text/plain": [
              "<Figure size 432x288 with 1 Axes>"
            ],
            "image/png": "[encoded data removed]"
          },
          "metadata": {
            "needs_background": "light"
          }
        }
      ]
    },
    {
      "cell_type": "code",
      "source": [
        "make_sacks_preds = df_no_ids.drop('sack', axis = 1)\n",
        "XGB_total_predictions = pd.DataFrame(XGB.predict_proba(make_sacks_preds), columns = ['no_sack', 'sack_pred'])[['sack_pred']]\n",
        "\n",
        "sacks_preds = df.copy()\n",
        "sacks_preds['sack_pred'] = XGB_total_predictions\n",
        "\n",
        "sacks_preds['sacks_oe'] = sacks_preds['sack'] - sacks_preds['sack_pred']\n",
        "sacks_preds[(sacks_preds['season'] == 2022)].groupby('name').agg({'sack': 'sum', 'sack_pred': 'sum', 'sacks_oe': 'sum'}).reset_index().sort_values('sacks_oe', ascending = True).head(10)"
      ],
      "metadata": {
        "colab": {
          "base_uri": "https://localhost:8080/",
          "height": 514
        },
        "id": "kybx8f-xdnxO",
        "outputId": "1780dd42-9adb-4d3e-c8b6-5dc661793f45"
      },
      "execution_count": 149,
      "outputs": [
        {
          "output_type": "error",
          "ename": "KeyError",
          "evalue": "ignored",
          "traceback": [
            "\u001b[0;31m---------------------------------------------------------------------------\u001b[0m",
            "\u001b[0;31mKeyError\u001b[0m                                  Traceback (most recent call last)",
            "\u001b[0;32m/usr/local/lib/python3.8/dist-packages/pandas/core/indexes/base.py\u001b[0m in \u001b[0;36mget_loc\u001b[0;34m(self, key, method, tolerance)\u001b[0m\n\u001b[1;32m   3801\u001b[0m             \u001b[0;32mtry\u001b[0m\u001b[0;34m:\u001b[0m\u001b[0;34m\u001b[0m\u001b[0;34m\u001b[0m\u001b[0m\n\u001b[0;32m-> 3802\u001b[0;31m                 \u001b[0;32mreturn\u001b[0m \u001b[0mself\u001b[0m\u001b[0;34m.\u001b[0m\u001b[0m_engine\u001b[0m\u001b[0;34m.\u001b[0m\u001b[0mget_loc\u001b[0m\u001b[0;34m(\u001b[0m\u001b[0mcasted_key\u001b[0m\u001b[0;34m)\u001b[0m\u001b[0;34m\u001b[0m\u001b[0;34m\u001b[0m\u001b[0m\n\u001b[0m\u001b[1;32m   3803\u001b[0m             \u001b[0;32mexcept\u001b[0m \u001b[0mKeyError\u001b[0m \u001b[0;32mas\u001b[0m \u001b[0merr\u001b[0m\u001b[0;34m:\u001b[0m\u001b[0;34m\u001b[0m\u001b[0;34m\u001b[0m\u001b[0m\n",
            "\u001b[0;32m/usr/local/lib/python3.8/dist-packages/pandas/_libs/index.pyx\u001b[0m in \u001b[0;36mpandas._libs.index.IndexEngine.get_loc\u001b[0;34m()\u001b[0m\n",
            "\u001b[0;32m/usr/local/lib/python3.8/dist-packages/pandas/_libs/index.pyx\u001b[0m in \u001b[0;36mpandas._libs.index.IndexEngine.get_loc\u001b[0;34m()\u001b[0m\n",
            "\u001b[0;32mpandas/_libs/hashtable_class_helper.pxi\u001b[0m in \u001b[0;36mpandas._libs.hashtable.PyObjectHashTable.get_item\u001b[0;34m()\u001b[0m\n",
            "\u001b[0;32mpandas/_libs/hashtable_class_helper.pxi\u001b[0m in \u001b[0;36mpandas._libs.hashtable.PyObjectHashTable.get_item\u001b[0;34m()\u001b[0m\n",
            "\u001b[0;31mKeyError\u001b[0m: 'season'",
            "\nThe above exception was the direct cause of the following exception:\n",
            "\u001b[0;31mKeyError\u001b[0m                                  Traceback (most recent call last)",
            "\u001b[0;32m<ipython-input-149-a6ca17c7354f>\u001b[0m in \u001b[0;36m<module>\u001b[0;34m\u001b[0m\n\u001b[1;32m      6\u001b[0m \u001b[0;34m\u001b[0m\u001b[0m\n\u001b[1;32m      7\u001b[0m \u001b[0msacks_preds\u001b[0m\u001b[0;34m[\u001b[0m\u001b[0;34m'sacks_oe'\u001b[0m\u001b[0;34m]\u001b[0m \u001b[0;34m=\u001b[0m \u001b[0msacks_preds\u001b[0m\u001b[0;34m[\u001b[0m\u001b[0;34m'sack'\u001b[0m\u001b[0;34m]\u001b[0m \u001b[0;34m-\u001b[0m \u001b[0msacks_preds\u001b[0m\u001b[0;34m[\u001b[0m\u001b[0;34m'sack_pred'\u001b[0m\u001b[0;34m]\u001b[0m\u001b[0;34m\u001b[0m\u001b[0;34m\u001b[0m\u001b[0m\n\u001b[0;32m----> 8\u001b[0;31m \u001b[0msacks_preds\u001b[0m\u001b[0;34m[\u001b[0m\u001b[0;34m(\u001b[0m\u001b[0msacks_preds\u001b[0m\u001b[0;34m[\u001b[0m\u001b[0;34m'season'\u001b[0m\u001b[0;34m]\u001b[0m \u001b[0;34m==\u001b[0m \u001b[0;36m2022\u001b[0m\u001b[0;34m)\u001b[0m\u001b[0;34m]\u001b[0m\u001b[0;34m.\u001b[0m\u001b[0mgroupby\u001b[0m\u001b[0;34m(\u001b[0m\u001b[0;34m'name'\u001b[0m\u001b[0;34m)\u001b[0m\u001b[0;34m.\u001b[0m\u001b[0magg\u001b[0m\u001b[0;34m(\u001b[0m\u001b[0;34m{\u001b[0m\u001b[0;34m'sack'\u001b[0m\u001b[0;34m:\u001b[0m \u001b[0;34m'sum'\u001b[0m\u001b[0;34m,\u001b[0m \u001b[0;34m'sack_pred'\u001b[0m\u001b[0;34m:\u001b[0m \u001b[0;34m'sum'\u001b[0m\u001b[0;34m,\u001b[0m \u001b[0;34m'sacks_oe'\u001b[0m\u001b[0;34m:\u001b[0m \u001b[0;34m'sum'\u001b[0m\u001b[0;34m}\u001b[0m\u001b[0;34m)\u001b[0m\u001b[0;34m.\u001b[0m\u001b[0mreset_index\u001b[0m\u001b[0;34m(\u001b[0m\u001b[0;34m)\u001b[0m\u001b[0;34m.\u001b[0m\u001b[0msort_values\u001b[0m\u001b[0;34m(\u001b[0m\u001b[0;34m'sacks_oe'\u001b[0m\u001b[0;34m,\u001b[0m \u001b[0mascending\u001b[0m \u001b[0;34m=\u001b[0m \u001b[0;32mTrue\u001b[0m\u001b[0;34m)\u001b[0m\u001b[0;34m.\u001b[0m\u001b[0mhead\u001b[0m\u001b[0;34m(\u001b[0m\u001b[0;36m10\u001b[0m\u001b[0;34m)\u001b[0m\u001b[0;34m\u001b[0m\u001b[0;34m\u001b[0m\u001b[0m\n\u001b[0m",
            "\u001b[0;32m/usr/local/lib/python3.8/dist-packages/pandas/core/frame.py\u001b[0m in \u001b[0;36m__getitem__\u001b[0;34m(self, key)\u001b[0m\n\u001b[1;32m   3805\u001b[0m             \u001b[0;32mif\u001b[0m \u001b[0mself\u001b[0m\u001b[0;34m.\u001b[0m\u001b[0mcolumns\u001b[0m\u001b[0;34m.\u001b[0m\u001b[0mnlevels\u001b[0m \u001b[0;34m>\u001b[0m \u001b[0;36m1\u001b[0m\u001b[0;34m:\u001b[0m\u001b[0;34m\u001b[0m\u001b[0;34m\u001b[0m\u001b[0m\n\u001b[1;32m   3806\u001b[0m                 \u001b[0;32mreturn\u001b[0m \u001b[0mself\u001b[0m\u001b[0;34m.\u001b[0m\u001b[0m_getitem_multilevel\u001b[0m\u001b[0;34m(\u001b[0m\u001b[0mkey\u001b[0m\u001b[0;34m)\u001b[0m\u001b[0;34m\u001b[0m\u001b[0;34m\u001b[0m\u001b[0m\n\u001b[0;32m-> 3807\u001b[0;31m             \u001b[0mindexer\u001b[0m \u001b[0;34m=\u001b[0m \u001b[0mself\u001b[0m\u001b[0;34m.\u001b[0m\u001b[0mcolumns\u001b[0m\u001b[0;34m.\u001b[0m\u001b[0mget_loc\u001b[0m\u001b[0;34m(\u001b[0m\u001b[0mkey\u001b[0m\u001b[0;34m)\u001b[0m\u001b[0;34m\u001b[0m\u001b[0;34m\u001b[0m\u001b[0m\n\u001b[0m\u001b[1;32m   3808\u001b[0m             \u001b[0;32mif\u001b[0m \u001b[0mis_integer\u001b[0m\u001b[0;34m(\u001b[0m\u001b[0mindexer\u001b[0m\u001b[0;34m)\u001b[0m\u001b[0;34m:\u001b[0m\u001b[0;34m\u001b[0m\u001b[0;34m\u001b[0m\u001b[0m\n\u001b[1;32m   3809\u001b[0m                 \u001b[0mindexer\u001b[0m \u001b[0;34m=\u001b[0m \u001b[0;34m[\u001b[0m\u001b[0mindexer\u001b[0m\u001b[0;34m]\u001b[0m\u001b[0;34m\u001b[0m\u001b[0;34m\u001b[0m\u001b[0m\n",
            "\u001b[0;32m/usr/local/lib/python3.8/dist-packages/pandas/core/indexes/base.py\u001b[0m in \u001b[0;36mget_loc\u001b[0;34m(self, key, method, tolerance)\u001b[0m\n\u001b[1;32m   3802\u001b[0m                 \u001b[0;32mreturn\u001b[0m \u001b[0mself\u001b[0m\u001b[0;34m.\u001b[0m\u001b[0m_engine\u001b[0m\u001b[0;34m.\u001b[0m\u001b[0mget_loc\u001b[0m\u001b[0;34m(\u001b[0m\u001b[0mcasted_key\u001b[0m\u001b[0;34m)\u001b[0m\u001b[0;34m\u001b[0m\u001b[0;34m\u001b[0m\u001b[0m\n\u001b[1;32m   3803\u001b[0m             \u001b[0;32mexcept\u001b[0m \u001b[0mKeyError\u001b[0m \u001b[0;32mas\u001b[0m \u001b[0merr\u001b[0m\u001b[0;34m:\u001b[0m\u001b[0;34m\u001b[0m\u001b[0;34m\u001b[0m\u001b[0m\n\u001b[0;32m-> 3804\u001b[0;31m                 \u001b[0;32mraise\u001b[0m \u001b[0mKeyError\u001b[0m\u001b[0;34m(\u001b[0m\u001b[0mkey\u001b[0m\u001b[0;34m)\u001b[0m \u001b[0;32mfrom\u001b[0m \u001b[0merr\u001b[0m\u001b[0;34m\u001b[0m\u001b[0;34m\u001b[0m\u001b[0m\n\u001b[0m\u001b[1;32m   3805\u001b[0m             \u001b[0;32mexcept\u001b[0m \u001b[0mTypeError\u001b[0m\u001b[0;34m:\u001b[0m\u001b[0;34m\u001b[0m\u001b[0;34m\u001b[0m\u001b[0m\n\u001b[1;32m   3806\u001b[0m                 \u001b[0;31m# If we have a listlike key, _check_indexing_error will raise\u001b[0m\u001b[0;34m\u001b[0m\u001b[0;34m\u001b[0m\u001b[0;34m\u001b[0m\u001b[0m\n",
            "\u001b[0;31mKeyError\u001b[0m: 'season'"
          ]
        }
      ]
    },
    {
      "cell_type": "code",
      "source": [],
      "metadata": {
        "id": "UrWxK4Q_eAPo"
      },
      "execution_count": null,
      "outputs": []
    }
  ]
}