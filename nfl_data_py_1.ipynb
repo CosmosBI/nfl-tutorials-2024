{
  "nbformat": 4,
  "nbformat_minor": 0,
  "metadata": {
    "colab": {
      "provenance": [],
      "authorship_tag": "ABX9TyNtL3rRLRaFsqfe3OjXWXvF",
      "include_colab_link": true
    },
    "kernelspec": {
      "name": "python3",
      "display_name": "Python 3"
    },
    "language_info": {
      "name": "python"
    }
  },
  "cells": [
    {
      "cell_type": "markdown",
      "metadata": {
        "id": "view-in-github",
        "colab_type": "text"
      },
      "source": [
        "<a href=\"https://colab.research.google.com/github/tejseth/nfl-tutorials-2022/blob/master/nfl_data_py_1.ipynb\" target=\"_parent\"><img src=\"https://colab.research.google.com/assets/colab-badge.svg\" alt=\"Open In Colab\"/></a>"
      ]
    },
    {
      "cell_type": "markdown",
      "source": [
        "## Introduction to NFL Data with Python\n"
      ],
      "metadata": {
        "id": "u9t84zITg5kk"
      }
    },
    {
      "cell_type": "markdown",
      "source": [
        "#### Installing Packages "
      ],
      "metadata": {
        "id": "BEYSa7EZg_Jm"
      }
    },
    {
      "cell_type": "code",
      "execution_count": 11,
      "metadata": {
        "id": "R4hsxEl8VLT_"
      },
      "outputs": [],
      "source": [
        "# pip install nfl_data_py\n",
        "# pip install pandas"
      ]
    },
    {
      "cell_type": "markdown",
      "source": [
        "#### Loading in Packages"
      ],
      "metadata": {
        "id": "AlI10TzbhB_Y"
      }
    },
    {
      "cell_type": "code",
      "source": [
        "import nfl_data_py as nfl\n",
        "import pandas as pd"
      ],
      "metadata": {
        "id": "HspSTbm9fxBw"
      },
      "execution_count": 12,
      "outputs": []
    },
    {
      "cell_type": "markdown",
      "source": [
        "#### Loading in Play-by-Play Data"
      ],
      "metadata": {
        "id": "p5wgClkghEMi"
      }
    },
    {
      "cell_type": "code",
      "source": [
        "pbp = nfl.import_pbp_data([2022])"
      ],
      "metadata": {
        "colab": {
          "base_uri": "https://localhost:8080/"
        },
        "id": "9lDNQ1J8f3jt",
        "outputId": "dc8e0673-4f5a-4115-ed98-a6a64c113e74"
      },
      "execution_count": 10,
      "outputs": [
        {
          "output_type": "stream",
          "name": "stdout",
          "text": [
            "2022 done.\n",
            "Downcasting floats.\n"
          ]
        }
      ]
    },
    {
      "cell_type": "markdown",
      "source": [
        "#### Looking at dataset"
      ],
      "metadata": {
        "id": "tV9Fo0cYhXks"
      }
    },
    {
      "cell_type": "code",
      "source": [
        "pbp.head()"
      ],
      "metadata": {
        "colab": {
          "base_uri": "https://localhost:8080/",
          "height": 508
        },
        "id": "5e_Ceiz8f5-Z",
        "outputId": "3ba412f1-d48a-4338-ae67-7e7327aa1bb0"
      },
      "execution_count": 13,
      "outputs": [
        {
          "output_type": "execute_result",
          "data": {
            "text/plain": [
              "   play_id          game_id old_game_id home_team away_team season_type  week  \\\n",
              "0      1.0  2022_01_BAL_NYJ  2022091107       NYJ       BAL         REG     1   \n",
              "1     43.0  2022_01_BAL_NYJ  2022091107       NYJ       BAL         REG     1   \n",
              "2     68.0  2022_01_BAL_NYJ  2022091107       NYJ       BAL         REG     1   \n",
              "3     89.0  2022_01_BAL_NYJ  2022091107       NYJ       BAL         REG     1   \n",
              "4    115.0  2022_01_BAL_NYJ  2022091107       NYJ       BAL         REG     1   \n",
              "\n",
              "  posteam posteam_type defteam  ... offense_formation  offense_personnel  \\\n",
              "0    None         None    None  ...              None               None   \n",
              "1     NYJ         home     BAL  ...              None               None   \n",
              "2     NYJ         home     BAL  ...        SINGLEBACK   1 RB, 2 TE, 2 WR   \n",
              "3     NYJ         home     BAL  ...           SHOTGUN   1 RB, 2 TE, 2 WR   \n",
              "4     NYJ         home     BAL  ...        SINGLEBACK   1 RB, 2 TE, 2 WR   \n",
              "\n",
              "  defenders_in_box  defense_personnel  number_of_pass_rushers  \\\n",
              "0              NaN               None                     NaN   \n",
              "1              NaN               None                     NaN   \n",
              "2              7.0   3 DL, 4 LB, 4 DB                     NaN   \n",
              "3              6.0   3 DL, 4 LB, 4 DB                     4.0   \n",
              "4              7.0   3 DL, 4 LB, 4 DB                     NaN   \n",
              "\n",
              "                                     players_on_play  \\\n",
              "0                                                      \n",
              "1  47969;53059;42500;46279;53575;48364;46253;5460...   \n",
              "2  53536;43586;53443;42371;42500;44999;43433;3309...   \n",
              "3  53536;43586;42371;53443;42500;44999;43433;3309...   \n",
              "4  53536;43586;53443;42371;42500;44999;43433;3309...   \n",
              "\n",
              "                                     offense_players  \\\n",
              "0                                                      \n",
              "1  00-0036157;00-0035202;00-0037984;00-0029597;00...   \n",
              "2  00-0036924;00-0032466;00-0036979;00-0032234;00...   \n",
              "3  00-0036924;00-0032466;00-0032234;00-0036979;00...   \n",
              "4  00-0036924;00-0032466;00-0036979;00-0032234;00...   \n",
              "\n",
              "                                     defense_players  n_offense  n_defense  \n",
              "0                                                           0.0        0.0  \n",
              "1  00-0035537;00-0032134;00-0034419;00-0036500;00...       11.0       11.0  \n",
              "2  00-0033294;00-0026190;00-0032574;00-0028278;00...       11.0       11.0  \n",
              "3  00-0033294;00-0026190;00-0032574;00-0028278;00...       11.0       11.0  \n",
              "4  00-0033294;00-0026190;00-0032574;00-0028278;00...       11.0       11.0  \n",
              "\n",
              "[5 rows x 384 columns]"
            ],
            "text/html": [
              "\n",
              "  <div id=\"df-ad7adc69-4d0d-4010-bfbf-76fa4bbcb20c\">\n",
              "    <div class=\"colab-df-container\">\n",
              "      <div>\n",
              "<style scoped>\n",
              "    .dataframe tbody tr th:only-of-type {\n",
              "        vertical-align: middle;\n",
              "    }\n",
              "\n",
              "    .dataframe tbody tr th {\n",
              "        vertical-align: top;\n",
              "    }\n",
              "\n",
              "    .dataframe thead th {\n",
              "        text-align: right;\n",
              "    }\n",
              "</style>\n",
              "<table border=\"1\" class=\"dataframe\">\n",
              "  <thead>\n",
              "    <tr style=\"text-align: right;\">\n",
              "      <th></th>\n",
              "      <th>play_id</th>\n",
              "      <th>game_id</th>\n",
              "      <th>old_game_id</th>\n",
              "      <th>home_team</th>\n",
              "      <th>away_team</th>\n",
              "      <th>season_type</th>\n",
              "      <th>week</th>\n",
              "      <th>posteam</th>\n",
              "      <th>posteam_type</th>\n",
              "      <th>defteam</th>\n",
              "      <th>...</th>\n",
              "      <th>offense_formation</th>\n",
              "      <th>offense_personnel</th>\n",
              "      <th>defenders_in_box</th>\n",
              "      <th>defense_personnel</th>\n",
              "      <th>number_of_pass_rushers</th>\n",
              "      <th>players_on_play</th>\n",
              "      <th>offense_players</th>\n",
              "      <th>defense_players</th>\n",
              "      <th>n_offense</th>\n",
              "      <th>n_defense</th>\n",
              "    </tr>\n",
              "  </thead>\n",
              "  <tbody>\n",
              "    <tr>\n",
              "      <th>0</th>\n",
              "      <td>1.0</td>\n",
              "      <td>2022_01_BAL_NYJ</td>\n",
              "      <td>2022091107</td>\n",
              "      <td>NYJ</td>\n",
              "      <td>BAL</td>\n",
              "      <td>REG</td>\n",
              "      <td>1</td>\n",
              "      <td>None</td>\n",
              "      <td>None</td>\n",
              "      <td>None</td>\n",
              "      <td>...</td>\n",
              "      <td>None</td>\n",
              "      <td>None</td>\n",
              "      <td>NaN</td>\n",
              "      <td>None</td>\n",
              "      <td>NaN</td>\n",
              "      <td></td>\n",
              "      <td></td>\n",
              "      <td></td>\n",
              "      <td>0.0</td>\n",
              "      <td>0.0</td>\n",
              "    </tr>\n",
              "    <tr>\n",
              "      <th>1</th>\n",
              "      <td>43.0</td>\n",
              "      <td>2022_01_BAL_NYJ</td>\n",
              "      <td>2022091107</td>\n",
              "      <td>NYJ</td>\n",
              "      <td>BAL</td>\n",
              "      <td>REG</td>\n",
              "      <td>1</td>\n",
              "      <td>NYJ</td>\n",
              "      <td>home</td>\n",
              "      <td>BAL</td>\n",
              "      <td>...</td>\n",
              "      <td>None</td>\n",
              "      <td>None</td>\n",
              "      <td>NaN</td>\n",
              "      <td>None</td>\n",
              "      <td>NaN</td>\n",
              "      <td>47969;53059;42500;46279;53575;48364;46253;5460...</td>\n",
              "      <td>00-0036157;00-0035202;00-0037984;00-0029597;00...</td>\n",
              "      <td>00-0035537;00-0032134;00-0034419;00-0036500;00...</td>\n",
              "      <td>11.0</td>\n",
              "      <td>11.0</td>\n",
              "    </tr>\n",
              "    <tr>\n",
              "      <th>2</th>\n",
              "      <td>68.0</td>\n",
              "      <td>2022_01_BAL_NYJ</td>\n",
              "      <td>2022091107</td>\n",
              "      <td>NYJ</td>\n",
              "      <td>BAL</td>\n",
              "      <td>REG</td>\n",
              "      <td>1</td>\n",
              "      <td>NYJ</td>\n",
              "      <td>home</td>\n",
              "      <td>BAL</td>\n",
              "      <td>...</td>\n",
              "      <td>SINGLEBACK</td>\n",
              "      <td>1 RB, 2 TE, 2 WR</td>\n",
              "      <td>7.0</td>\n",
              "      <td>3 DL, 4 LB, 4 DB</td>\n",
              "      <td>NaN</td>\n",
              "      <td>53536;43586;53443;42371;42500;44999;43433;3309...</td>\n",
              "      <td>00-0036924;00-0032466;00-0036979;00-0032234;00...</td>\n",
              "      <td>00-0033294;00-0026190;00-0032574;00-0028278;00...</td>\n",
              "      <td>11.0</td>\n",
              "      <td>11.0</td>\n",
              "    </tr>\n",
              "    <tr>\n",
              "      <th>3</th>\n",
              "      <td>89.0</td>\n",
              "      <td>2022_01_BAL_NYJ</td>\n",
              "      <td>2022091107</td>\n",
              "      <td>NYJ</td>\n",
              "      <td>BAL</td>\n",
              "      <td>REG</td>\n",
              "      <td>1</td>\n",
              "      <td>NYJ</td>\n",
              "      <td>home</td>\n",
              "      <td>BAL</td>\n",
              "      <td>...</td>\n",
              "      <td>SHOTGUN</td>\n",
              "      <td>1 RB, 2 TE, 2 WR</td>\n",
              "      <td>6.0</td>\n",
              "      <td>3 DL, 4 LB, 4 DB</td>\n",
              "      <td>4.0</td>\n",
              "      <td>53536;43586;42371;53443;42500;44999;43433;3309...</td>\n",
              "      <td>00-0036924;00-0032466;00-0032234;00-0036979;00...</td>\n",
              "      <td>00-0033294;00-0026190;00-0032574;00-0028278;00...</td>\n",
              "      <td>11.0</td>\n",
              "      <td>11.0</td>\n",
              "    </tr>\n",
              "    <tr>\n",
              "      <th>4</th>\n",
              "      <td>115.0</td>\n",
              "      <td>2022_01_BAL_NYJ</td>\n",
              "      <td>2022091107</td>\n",
              "      <td>NYJ</td>\n",
              "      <td>BAL</td>\n",
              "      <td>REG</td>\n",
              "      <td>1</td>\n",
              "      <td>NYJ</td>\n",
              "      <td>home</td>\n",
              "      <td>BAL</td>\n",
              "      <td>...</td>\n",
              "      <td>SINGLEBACK</td>\n",
              "      <td>1 RB, 2 TE, 2 WR</td>\n",
              "      <td>7.0</td>\n",
              "      <td>3 DL, 4 LB, 4 DB</td>\n",
              "      <td>NaN</td>\n",
              "      <td>53536;43586;53443;42371;42500;44999;43433;3309...</td>\n",
              "      <td>00-0036924;00-0032466;00-0036979;00-0032234;00...</td>\n",
              "      <td>00-0033294;00-0026190;00-0032574;00-0028278;00...</td>\n",
              "      <td>11.0</td>\n",
              "      <td>11.0</td>\n",
              "    </tr>\n",
              "  </tbody>\n",
              "</table>\n",
              "<p>5 rows × 384 columns</p>\n",
              "</div>\n",
              "      <button class=\"colab-df-convert\" onclick=\"convertToInteractive('df-ad7adc69-4d0d-4010-bfbf-76fa4bbcb20c')\"\n",
              "              title=\"Convert this dataframe to an interactive table.\"\n",
              "              style=\"display:none;\">\n",
              "        \n",
              "  <svg xmlns=\"http://www.w3.org/2000/svg\" height=\"24px\"viewBox=\"0 0 24 24\"\n",
              "       width=\"24px\">\n",
              "    <path d=\"M0 0h24v24H0V0z\" fill=\"none\"/>\n",
              "    <path d=\"M18.56 5.44l.94 2.06.94-2.06 2.06-.94-2.06-.94-.94-2.06-.94 2.06-2.06.94zm-11 1L8.5 8.5l.94-2.06 2.06-.94-2.06-.94L8.5 2.5l-.94 2.06-2.06.94zm10 10l.94 2.06.94-2.06 2.06-.94-2.06-.94-.94-2.06-.94 2.06-2.06.94z\"/><path d=\"M17.41 7.96l-1.37-1.37c-.4-.4-.92-.59-1.43-.59-.52 0-1.04.2-1.43.59L10.3 9.45l-7.72 7.72c-.78.78-.78 2.05 0 2.83L4 21.41c.39.39.9.59 1.41.59.51 0 1.02-.2 1.41-.59l7.78-7.78 2.81-2.81c.8-.78.8-2.07 0-2.86zM5.41 20L4 18.59l7.72-7.72 1.47 1.35L5.41 20z\"/>\n",
              "  </svg>\n",
              "      </button>\n",
              "      \n",
              "  <style>\n",
              "    .colab-df-container {\n",
              "      display:flex;\n",
              "      flex-wrap:wrap;\n",
              "      gap: 12px;\n",
              "    }\n",
              "\n",
              "    .colab-df-convert {\n",
              "      background-color: #E8F0FE;\n",
              "      border: none;\n",
              "      border-radius: 50%;\n",
              "      cursor: pointer;\n",
              "      display: none;\n",
              "      fill: #1967D2;\n",
              "      height: 32px;\n",
              "      padding: 0 0 0 0;\n",
              "      width: 32px;\n",
              "    }\n",
              "\n",
              "    .colab-df-convert:hover {\n",
              "      background-color: #E2EBFA;\n",
              "      box-shadow: 0px 1px 2px rgba(60, 64, 67, 0.3), 0px 1px 3px 1px rgba(60, 64, 67, 0.15);\n",
              "      fill: #174EA6;\n",
              "    }\n",
              "\n",
              "    [theme=dark] .colab-df-convert {\n",
              "      background-color: #3B4455;\n",
              "      fill: #D2E3FC;\n",
              "    }\n",
              "\n",
              "    [theme=dark] .colab-df-convert:hover {\n",
              "      background-color: #434B5C;\n",
              "      box-shadow: 0px 1px 3px 1px rgba(0, 0, 0, 0.15);\n",
              "      filter: drop-shadow(0px 1px 2px rgba(0, 0, 0, 0.3));\n",
              "      fill: #FFFFFF;\n",
              "    }\n",
              "  </style>\n",
              "\n",
              "      <script>\n",
              "        const buttonEl =\n",
              "          document.querySelector('#df-ad7adc69-4d0d-4010-bfbf-76fa4bbcb20c button.colab-df-convert');\n",
              "        buttonEl.style.display =\n",
              "          google.colab.kernel.accessAllowed ? 'block' : 'none';\n",
              "\n",
              "        async function convertToInteractive(key) {\n",
              "          const element = document.querySelector('#df-ad7adc69-4d0d-4010-bfbf-76fa4bbcb20c');\n",
              "          const dataTable =\n",
              "            await google.colab.kernel.invokeFunction('convertToInteractive',\n",
              "                                                     [key], {});\n",
              "          if (!dataTable) return;\n",
              "\n",
              "          const docLinkHtml = 'Like what you see? Visit the ' +\n",
              "            '<a target=\"_blank\" href=https://colab.research.google.com/notebooks/data_table.ipynb>data table notebook</a>'\n",
              "            + ' to learn more about interactive tables.';\n",
              "          element.innerHTML = '';\n",
              "          dataTable['output_type'] = 'display_data';\n",
              "          await google.colab.output.renderOutput(dataTable, element);\n",
              "          const docLink = document.createElement('div');\n",
              "          docLink.innerHTML = docLinkHtml;\n",
              "          element.appendChild(docLink);\n",
              "        }\n",
              "      </script>\n",
              "    </div>\n",
              "  </div>\n",
              "  "
            ]
          },
          "metadata": {},
          "execution_count": 13
        }
      ]
    },
    {
      "cell_type": "code",
      "source": [
        "pbp.columns"
      ],
      "metadata": {
        "colab": {
          "base_uri": "https://localhost:8080/"
        },
        "id": "zItvqsang3Xq",
        "outputId": "96a41f41-38bd-4c56-c0c9-f4ee0ef8e557"
      },
      "execution_count": 15,
      "outputs": [
        {
          "output_type": "execute_result",
          "data": {
            "text/plain": [
              "Index(['play_id', 'game_id', 'old_game_id', 'home_team', 'away_team',\n",
              "       'season_type', 'week', 'posteam', 'posteam_type', 'defteam',\n",
              "       ...\n",
              "       'offense_formation', 'offense_personnel', 'defenders_in_box',\n",
              "       'defense_personnel', 'number_of_pass_rushers', 'players_on_play',\n",
              "       'offense_players', 'defense_players', 'n_offense', 'n_defense'],\n",
              "      dtype='object', length=384)"
            ]
          },
          "metadata": {},
          "execution_count": 15
        }
      ]
    },
    {
      "cell_type": "code",
      "source": [
        "pbp.dtypes"
      ],
      "metadata": {
        "colab": {
          "base_uri": "https://localhost:8080/"
        },
        "id": "ItUbqmwThP7l",
        "outputId": "b24186e6-b3ed-430b-b783-28d69c01b260"
      },
      "execution_count": 17,
      "outputs": [
        {
          "output_type": "execute_result",
          "data": {
            "text/plain": [
              "play_id            float32\n",
              "game_id             object\n",
              "old_game_id         object\n",
              "home_team           object\n",
              "away_team           object\n",
              "                    ...   \n",
              "players_on_play     object\n",
              "offense_players     object\n",
              "defense_players     object\n",
              "n_offense          float32\n",
              "n_defense          float32\n",
              "Length: 384, dtype: object"
            ]
          },
          "metadata": {},
          "execution_count": 17
        }
      ]
    },
    {
      "cell_type": "code",
      "source": [],
      "metadata": {
        "id": "zsLK-3G8hU1_"
      },
      "execution_count": null,
      "outputs": []
    }
  ]
}